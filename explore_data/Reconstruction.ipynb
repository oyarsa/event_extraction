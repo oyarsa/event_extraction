{
 "cells": [
  {
   "cell_type": "code",
   "execution_count": 1,
   "id": "0a974b87-9f5a-4653-a971-4fc6f794d66f",
   "metadata": {},
   "outputs": [],
   "source": [
    "import json\n",
    "from dataclasses import dataclass"
   ]
  },
  {
   "cell_type": "code",
   "execution_count": 2,
   "id": "50d2b91e-a246-4526-9405-d9ffecc76648",
   "metadata": {},
   "outputs": [
    {
     "data": {
      "text/plain": [
       "[{'tid': 2771,\n",
       "  'info': \"If one or more of Ecolab's customers were to experience a disastrous outcome, the firm's reputation could suffer and it could lose multiple customers as a result.\",\n",
       "  'extraInfo': None,\n",
       "  'labelData': [{'type': 'cause',\n",
       "    'reason': [[3, 76]],\n",
       "    'result': [[78, 149]]}]},\n",
       " {'tid': 3940,\n",
       "  'info': \"As grocery customers regularly visit the store, they are continually exposed to the firm's higher margin offerings, spurring lucrative general merchandise sales.\",\n",
       "  'extraInfo': None,\n",
       "  'labelData': [{'type': 'cause',\n",
       "    'reason': [[49, 114]],\n",
       "    'result': [[116, 160]]}]},\n",
       " {'tid': 710,\n",
       "  'info': 'Nevertheless, with voices amplified through structural shifts like the rise of digital media, consumers have more agency than ever: if they want LaCroix (or any other National Beverage brand), retailers eventually have to oblige.',\n",
       "  'extraInfo': None,\n",
       "  'labelData': [{'type': 'cause',\n",
       "    'reason': [[18, 61]],\n",
       "    'result': [[93, 120]]}]}]"
      ]
     },
     "execution_count": 2,
     "metadata": {},
     "output_type": "execute_result"
    }
   ],
   "source": [
    "with open(\"../data/raw/event_dataset_dev.json\") as f:\n",
    "    data_json = json.load(f)\n",
    "data_json[0:3]"
   ]
  },
  {
   "cell_type": "code",
   "execution_count": 3,
   "id": "eaafc14c-e6f3-4751-9f88-498b93146996",
   "metadata": {},
   "outputs": [
    {
     "data": {
      "text/plain": [
       "{'tid': 2771,\n",
       " 'info': \"If one or more of Ecolab's customers were to experience a disastrous outcome, the firm's reputation could suffer and it could lose multiple customers as a result.\",\n",
       " 'extraInfo': None,\n",
       " 'labelData': [{'type': 'cause', 'reason': [[3, 76]], 'result': [[78, 149]]}]}"
      ]
     },
     "execution_count": 3,
     "metadata": {},
     "output_type": "execute_result"
    }
   ],
   "source": [
    "ex = data_json[0]\n",
    "ex"
   ]
  },
  {
   "cell_type": "code",
   "execution_count": 4,
   "id": "362d01cd-c949-4861-ae75-5c638e5951d8",
   "metadata": {},
   "outputs": [
    {
     "data": {
      "text/plain": [
       "\"If one or more of Ecolab's customers were to experience a disastrous outcome, the firm's reputation could suffer and it could lose multiple customers as a result.\""
      ]
     },
     "execution_count": 4,
     "metadata": {},
     "output_type": "execute_result"
    }
   ],
   "source": [
    "text = ex[\"info\"]\n",
    "text"
   ]
  },
  {
   "cell_type": "code",
   "execution_count": 5,
   "id": "cf4f58ae-5231-4975-8e0f-011090ef4804",
   "metadata": {
    "tags": []
   },
   "outputs": [
    {
     "data": {
      "text/plain": [
       "[Example(id=2771, text=\"If one or more of Ecolab's customers were to experience a disastrous outcome, the firm's reputation could suffer and it could lose multiple customers as a result.\", relations=[Relation(type='cause', causes=[\"one or more of Ecolab's customers were to experience a disastrous outcome\"], effects=[\"the firm's reputation could suffer and it could lose multiple customers\"])]),\n",
       " Example(id=3940, text=\"As grocery customers regularly visit the store, they are continually exposed to the firm's higher margin offerings, spurring lucrative general merchandise sales.\", relations=[Relation(type='cause', causes=[\"hey are continually exposed to the firm's higher margin offerings\"], effects=['spurring lucrative general merchandise sales'])]),\n",
       " Example(id=710, text='Nevertheless, with voices amplified through structural shifts like the rise of digital media, consumers have more agency than ever: if they want LaCroix (or any other National Beverage brand), retailers eventually have to oblige.', relations=[Relation(type='cause', causes=[' voices amplified through structural shifts'], effects=[' consumers have more agency'])])]"
      ]
     },
     "execution_count": 5,
     "metadata": {},
     "output_type": "execute_result"
    }
   ],
   "source": [
    "@dataclass\n",
    "class Relation:\n",
    "    type: str\n",
    "    causes: list[str]\n",
    "    effects: list[str]\n",
    "\n",
    "\n",
    "@dataclass\n",
    "class Example:\n",
    "    id: int\n",
    "    text: str\n",
    "    relations: list[Relation]\n",
    "\n",
    "\n",
    "processed = []\n",
    "\n",
    "for example in data_json:\n",
    "    id = example[\"tid\"]\n",
    "    text = example[\"info\"]\n",
    "    relations = []\n",
    "\n",
    "    for relation in example[\"labelData\"]:\n",
    "        type = relation[\"type\"]\n",
    "        causes = [text[start:end] for start, end in relation[\"reason\"]]\n",
    "        effects = [text[start:end] for start, end in relation[\"result\"]]\n",
    "        relations.append(\n",
    "            Relation(\n",
    "                type=type,\n",
    "                causes=causes,\n",
    "                effects=effects,\n",
    "            )\n",
    "        )\n",
    "\n",
    "    processed.append(\n",
    "        Example(\n",
    "            id=id,\n",
    "            text=text,\n",
    "            relations=relations,\n",
    "        )\n",
    "    )\n",
    "\n",
    "processed[:3]"
   ]
  },
  {
   "cell_type": "code",
   "execution_count": 9,
   "id": "a09359cc-e239-4cf6-a275-ab78b2cb2de7",
   "metadata": {},
   "outputs": [
    {
     "name": "stdout",
     "output_type": "stream",
     "text": [
      "Relation(type='cause', causes=[\"one or more of Ecolab's customers were to experience a disastrous outcome\"], effects=[\"the firm's reputation could suffer and it could lose multiple customers\"])\n",
      "one or more of Ecolab's customers were to experience a disastrous outcome, the firm's reputation could suffer and it could lose multiple customers\n",
      "\n",
      "\n",
      "Relation(type='cause', causes=[\"hey are continually exposed to the firm's higher margin offerings\"], effects=['spurring lucrative general merchandise sales'])\n",
      "hey are continually exposed to the firm's higher margin offerings, spurring lucrative general merchandise sales\n",
      "\n",
      "\n",
      "Relation(type='cause', causes=[' voices amplified through structural shifts'], effects=[' consumers have more agency'])\n",
      "voices amplified through structural shifts like the rise of digital media, consumers have more agency\n",
      "\n",
      "\n",
      "Relation(type='cause', causes=['scale and growth driven by strong drug price inflation and increases in therapies'], effects=[' the company has historically generated returns on invested capital of 20% largely'])\n",
      "the company has historically generated returns on invested capital of 20% largely due to scale and growth driven by strong drug price inflation and increases in therapies\n",
      "\n",
      "\n",
      "Relation(type='enable', causes=['Steadily rising Internet access pricing'], effects=['Altice USA can maintain revenue per customer and cash flow'])\n",
      "Steadily rising Internet access pricing is a key element of our belief that Altice USA can maintain revenue per customer and cash flow\n",
      "\n",
      "Relation(type='cause', causes=['fewer customers take television and telephone services'], effects=['Steadily rising Internet access pricing'])\n",
      "Steadily rising Internet access pricing is a key element of our belief that Altice USA can maintain revenue per customer and cash flow as fewer customers take television and telephone services\n",
      "\n",
      "\n",
      "Relation(type='cause', causes=['the firm is entrusted with and handles such high volumes of sensitive data'], effects=[\"In our view, Akamai's biggest environmental, social, and governance, or ESG, risk is that of a data or security breach\"])\n",
      "In our view, Akamai's biggest environmental, social, and governance, or ESG, risk is that of a data or security breach, given the firm is entrusted with and handles such high volumes of sensitive data\n",
      "\n",
      "\n",
      "Relation(type='cause', causes=['summer 2021 deployment expected abroad'], effects=['we now think the firm could generate around $2 in EPS in 2022, up from $1.69 prior (still well below the $9.54 in EPS Royal generated in 2019)'])\n",
      "summer 2021 deployment expected abroad, we now think the firm could generate around $2 in EPS in 2022, up from $1.69 prior (still well below the $9.54 in EPS Royal generated in 2019)\n",
      "\n",
      "\n",
      "Relation(type='cause', causes=['efficiency gains via digitalization and scale'], effects=['achieve slow margin improvement'])\n",
      "achieve slow margin improvement thanks to efficiency gains via digitalization and scale\n",
      "\n",
      "Relation(type='cause', causes=[' the firm to drive fixed and mobile convergence'], effects=['a positive effect on growth and churn rates'])\n",
      "the firm to drive fixed and mobile convergence, with a positive effect on growth and churn rates\n",
      "\n",
      "\n",
      "Relation(type='cause', causes=['it grows in segments outside its core competency (such as media and market analysis for outside clients)'], effects=[\"Kroger's efforts to monetize its consumer data introduces risk\"])\n",
      "Kroger's efforts to monetize its consumer data introduces risk as it grows in segments outside its core competency (such as media and market analysis for outside clients)\n",
      "\n",
      "\n",
      "Relation(type='cause', causes=[\"Illinois's early plans for recreational legalization would hand an advantage to companies with medical cultivation and dispensary licenses\"], effects=['this could Drug Manufacturers - Specialty & Genericbe possible'])\n",
      "this could Drug Manufacturers - Specialty & Genericbe possible, as Illinois's early plans for recreational legalization would hand an advantage to companies with medical cultivation and dispensary licenses\n",
      "\n",
      "\n"
     ]
    }
   ],
   "source": [
    "def process_relation(relation: Relation, text: str) -> str:\n",
    "    start_index = int(float(1e9))\n",
    "    end_index = -1\n",
    "\n",
    "    for clause in relation.causes + relation.effects:\n",
    "        start = text.index(clause)\n",
    "        end = start + len(clause)\n",
    "\n",
    "        start_index = min(start_index, start)\n",
    "        end_index = max(end_index, end)\n",
    "\n",
    "    assert start_index != int(float(1e9)) and end_index != -1\n",
    "    return text[start_index:end_index].strip()\n",
    "\n",
    "\n",
    "for example in processed[:10]:\n",
    "    for relation in example.relations:\n",
    "        print(relation)\n",
    "        print(process_relation(relation, example.text))\n",
    "        print()\n",
    "    print()"
   ]
  }
 ],
 "metadata": {
  "kernelspec": {
   "display_name": "Python 3 (ipykernel)",
   "language": "python",
   "name": "python3"
  },
  "language_info": {
   "codemirror_mode": {
    "name": "ipython",
    "version": 3
   },
   "file_extension": ".py",
   "mimetype": "text/x-python",
   "name": "python",
   "nbconvert_exporter": "python",
   "pygments_lexer": "ipython3",
   "version": "3.10.3"
  }
 },
 "nbformat": 4,
 "nbformat_minor": 5
}
