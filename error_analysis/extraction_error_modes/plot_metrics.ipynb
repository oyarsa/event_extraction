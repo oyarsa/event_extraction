{
 "cells": [
  {
   "cell_type": "code",
   "execution_count": null,
   "id": "c5fe28fc-0b22-47da-ab83-518a815a9906",
   "metadata": {
    "tags": []
   },
   "outputs": [],
   "source": [
    "import matplotlib.pyplot as plt\n",
    "import pandas as pd"
   ]
  },
  {
   "cell_type": "code",
   "execution_count": null,
   "id": "8d424e7b-5248-4428-b933-44bbe38777cb",
   "metadata": {
    "tags": []
   },
   "outputs": [],
   "source": [
    "metrics_path = 'output/weak-test-seq/best-weak-t5-resampled'\n",
    "metrics_file = f'{metrics_path}/training_metrics.jsonl'\n",
    "df = pd.read_json(metrics_file, lines=True)"
   ]
  },
  {
   "cell_type": "code",
   "execution_count": null,
   "id": "801747ee-b5af-4a57-8b3f-9fd310c602ec",
   "metadata": {
    "tags": []
   },
   "outputs": [],
   "source": [
    "plt.figure(figsize=(10, 6))\n",
    "plt.plot(df['eval_loss'], label='Evaluation loss', color='blue')\n",
    "plt.plot(df['train_loss'], label='Training Loss', color='red')\n",
    "plt.plot(df['f1'], label='F1', color='green')\n",
    "plt.plot(df['accuracy'], label='Accuracy', color='black')\n",
    "plt.xlabel(\"Index\")\n",
    "plt.ylabel(\"Value\")\n",
    "plt.title(\"Eval/train losses; eval F1 and accuracy\")\n",
    "plt.grid(True)\n",
    "plt.legend()\n",
    "plt.show()"
   ]
  }
 ],
 "metadata": {
  "kernelspec": {
   "display_name": "Python 3 (ipykernel)",
   "language": "python",
   "name": "python3"
  },
  "language_info": {
   "codemirror_mode": {
    "name": "ipython",
    "version": 3
   },
   "file_extension": ".py",
   "mimetype": "text/x-python",
   "name": "python",
   "nbconvert_exporter": "python",
   "pygments_lexer": "ipython3",
   "version": "3.11.1"
  }
 },
 "nbformat": 4,
 "nbformat_minor": 5
}
