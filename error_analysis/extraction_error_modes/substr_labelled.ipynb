{
 "cells": [
  {
   "cell_type": "code",
   "execution_count": 1,
   "id": "b1052464-91d9-4094-8946-71e9666dc8ed",
   "metadata": {
    "tags": []
   },
   "outputs": [],
   "source": [
    "import re\n",
    "\n",
    "import matplotlib.pyplot as plt\n",
    "import pandas as pd"
   ]
  },
  {
   "cell_type": "code",
   "execution_count": 2,
   "id": "10b39810-efcb-41cb-9627-a8619d93782e",
   "metadata": {
    "tags": []
   },
   "outputs": [
    {
     "data": {
      "text/html": [
       "<div>\n",
       "<style scoped>\n",
       "    .dataframe tbody tr th:only-of-type {\n",
       "        vertical-align: middle;\n",
       "    }\n",
       "\n",
       "    .dataframe tbody tr th {\n",
       "        vertical-align: top;\n",
       "    }\n",
       "\n",
       "    .dataframe thead th {\n",
       "        text-align: right;\n",
       "    }\n",
       "</style>\n",
       "<table border=\"1\" class=\"dataframe\">\n",
       "  <thead>\n",
       "    <tr style=\"text-align: right;\">\n",
       "      <th></th>\n",
       "      <th>input</th>\n",
       "      <th>output</th>\n",
       "      <th>gold</th>\n",
       "      <th>pred_cause</th>\n",
       "      <th>pred_effect</th>\n",
       "      <th>gold_cause</th>\n",
       "      <th>gold_effect</th>\n",
       "      <th>cause_substr</th>\n",
       "      <th>effect_substr</th>\n",
       "      <th>cause_excess</th>\n",
       "      <th>cause_excess_count</th>\n",
       "      <th>effect_excess</th>\n",
       "      <th>effect_excess_count</th>\n",
       "      <th>valid</th>\n",
       "    </tr>\n",
       "  </thead>\n",
       "  <tbody>\n",
       "    <tr>\n",
       "      <th>0</th>\n",
       "      <td>BB&amp;T and SunTrust have completed their merger,...</td>\n",
       "      <td>[Cause] BB&amp;T and SunTrust have completed their...</td>\n",
       "      <td>[Cause] BB&amp;T and SunTrust have completed their...</td>\n",
       "      <td>BB&amp;T and SunTrust have completed their merger,...</td>\n",
       "      <td>drive the next step up in profitability for th...</td>\n",
       "      <td>BB&amp;T and SunTrust have completed their merger,...</td>\n",
       "      <td>which we believe will drive the next step up i...</td>\n",
       "      <td>True</td>\n",
       "      <td>True</td>\n",
       "      <td></td>\n",
       "      <td>0</td>\n",
       "      <td>which we believe will</td>\n",
       "      <td>4</td>\n",
       "      <td>True</td>\n",
       "    </tr>\n",
       "    <tr>\n",
       "      <th>1</th>\n",
       "      <td>Given Tulip's lack of profitability (managemen...</td>\n",
       "      <td>[Cause] Tulip's lack of profitability [Relatio...</td>\n",
       "      <td>[Cause] Given Tulip's lack of profitability (m...</td>\n",
       "      <td>Tulip's lack of profitability</td>\n",
       "      <td>we do not believe the business maintains a cos...</td>\n",
       "      <td>Given Tulip's lack of profitability (managemen...</td>\n",
       "      <td>we do not believe the business maintains a cos...</td>\n",
       "      <td>True</td>\n",
       "      <td>True</td>\n",
       "      <td>given  (management has stated the business was...</td>\n",
       "      <td>17</td>\n",
       "      <td></td>\n",
       "      <td>0</td>\n",
       "      <td>True</td>\n",
       "    </tr>\n",
       "    <tr>\n",
       "      <th>2</th>\n",
       "      <td>That said, Wynn has recently renovated rooms a...</td>\n",
       "      <td>[Cause] Wynn has recently renovated rooms and ...</td>\n",
       "      <td>[Cause] Wynn has recently renovated rooms and ...</td>\n",
       "      <td>Wynn has recently renovated rooms and the gami...</td>\n",
       "      <td>the facility maintain market share over the ne...</td>\n",
       "      <td>Wynn has recently renovated rooms and the gami...</td>\n",
       "      <td>help the facility maintain market share over t...</td>\n",
       "      <td>True</td>\n",
       "      <td>True</td>\n",
       "      <td></td>\n",
       "      <td>0</td>\n",
       "      <td>help</td>\n",
       "      <td>1</td>\n",
       "      <td>True</td>\n",
       "    </tr>\n",
       "    <tr>\n",
       "      <th>3</th>\n",
       "      <td>We expect that management will continue to pur...</td>\n",
       "      <td>[Cause] management will continue to pursue acq...</td>\n",
       "      <td>[Cause]  management will continue to pursue ac...</td>\n",
       "      <td>management will continue to pursue acquisition...</td>\n",
       "      <td>further lower the cyclicality of Fortive's por...</td>\n",
       "      <td>management will continue to pursue acquisition...</td>\n",
       "      <td>the cyclicality of Fortive's portfolio</td>\n",
       "      <td>True</td>\n",
       "      <td>True</td>\n",
       "      <td></td>\n",
       "      <td>0</td>\n",
       "      <td>further lower</td>\n",
       "      <td>2</td>\n",
       "      <td>True</td>\n",
       "    </tr>\n",
       "    <tr>\n",
       "      <th>4</th>\n",
       "      <td>We expect a primary growth driver to be the 20...</td>\n",
       "      <td>[Cause] Beyond's products emit 90% less greenh...</td>\n",
       "      <td>[Cause]  Beyond's products emit 90% less green...</td>\n",
       "      <td>Beyond's products emit 90% less greenhouse gas...</td>\n",
       "      <td>a primary growth driver to be the 20% of consu...</td>\n",
       "      <td>Beyond's products emit 90% less greenhouse gas...</td>\n",
       "      <td>the 20% of consumers willing to adjust their h...</td>\n",
       "      <td>True</td>\n",
       "      <td>True</td>\n",
       "      <td>than their meat equivalents</td>\n",
       "      <td>4</td>\n",
       "      <td>a primary growth driver to be</td>\n",
       "      <td>6</td>\n",
       "      <td>True</td>\n",
       "    </tr>\n",
       "  </tbody>\n",
       "</table>\n",
       "</div>"
      ],
      "text/plain": [
       "                                               input  \\\n",
       "0  BB&T and SunTrust have completed their merger,...   \n",
       "1  Given Tulip's lack of profitability (managemen...   \n",
       "2  That said, Wynn has recently renovated rooms a...   \n",
       "3  We expect that management will continue to pur...   \n",
       "4  We expect a primary growth driver to be the 20...   \n",
       "\n",
       "                                              output  \\\n",
       "0  [Cause] BB&T and SunTrust have completed their...   \n",
       "1  [Cause] Tulip's lack of profitability [Relatio...   \n",
       "2  [Cause] Wynn has recently renovated rooms and ...   \n",
       "3  [Cause] management will continue to pursue acq...   \n",
       "4  [Cause] Beyond's products emit 90% less greenh...   \n",
       "\n",
       "                                                gold  \\\n",
       "0  [Cause] BB&T and SunTrust have completed their...   \n",
       "1  [Cause] Given Tulip's lack of profitability (m...   \n",
       "2  [Cause] Wynn has recently renovated rooms and ...   \n",
       "3  [Cause]  management will continue to pursue ac...   \n",
       "4  [Cause]  Beyond's products emit 90% less green...   \n",
       "\n",
       "                                          pred_cause  \\\n",
       "0  BB&T and SunTrust have completed their merger,...   \n",
       "1                      Tulip's lack of profitability   \n",
       "2  Wynn has recently renovated rooms and the gami...   \n",
       "3  management will continue to pursue acquisition...   \n",
       "4  Beyond's products emit 90% less greenhouse gas...   \n",
       "\n",
       "                                         pred_effect  \\\n",
       "0  drive the next step up in profitability for th...   \n",
       "1  we do not believe the business maintains a cos...   \n",
       "2  the facility maintain market share over the ne...   \n",
       "3  further lower the cyclicality of Fortive's por...   \n",
       "4  a primary growth driver to be the 20% of consu...   \n",
       "\n",
       "                                          gold_cause  \\\n",
       "0  BB&T and SunTrust have completed their merger,...   \n",
       "1  Given Tulip's lack of profitability (managemen...   \n",
       "2  Wynn has recently renovated rooms and the gami...   \n",
       "3  management will continue to pursue acquisition...   \n",
       "4  Beyond's products emit 90% less greenhouse gas...   \n",
       "\n",
       "                                         gold_effect  cause_substr  \\\n",
       "0  which we believe will drive the next step up i...          True   \n",
       "1  we do not believe the business maintains a cos...          True   \n",
       "2  help the facility maintain market share over t...          True   \n",
       "3             the cyclicality of Fortive's portfolio          True   \n",
       "4  the 20% of consumers willing to adjust their h...          True   \n",
       "\n",
       "   effect_substr                                       cause_excess  \\\n",
       "0           True                                                      \n",
       "1           True  given  (management has stated the business was...   \n",
       "2           True                                                      \n",
       "3           True                                                      \n",
       "4           True                        than their meat equivalents   \n",
       "\n",
       "   cause_excess_count                   effect_excess  effect_excess_count  \\\n",
       "0                   0          which we believe will                     4   \n",
       "1                  17                                                    0   \n",
       "2                   0                           help                     1   \n",
       "3                   0                  further lower                     2   \n",
       "4                   4  a primary growth driver to be                     6   \n",
       "\n",
       "   valid  \n",
       "0   True  \n",
       "1   True  \n",
       "2   True  \n",
       "3   True  \n",
       "4   True  "
      ]
     },
     "execution_count": 2,
     "metadata": {},
     "output_type": "execute_result"
    }
   ],
   "source": [
    "filename = \"substr_labelled.json\"\n",
    "data = pd.read_json(filename)\n",
    "data.head()"
   ]
  },
  {
   "cell_type": "code",
   "execution_count": 3,
   "id": "4457889c-16c6-495a-a95c-bed5755d9e02",
   "metadata": {
    "tags": []
   },
   "outputs": [
    {
     "name": "stdout",
     "output_type": "stream",
     "text": [
      "valid\n",
      "True     724\n",
      "False    282\n",
      "Name: count, dtype: int64\n",
      "valid\n",
      "True     0.719682\n",
      "False    0.280318\n",
      "Name: proportion, dtype: float64\n"
     ]
    }
   ],
   "source": [
    "print(data[\"valid\"].value_counts())\n",
    "print(data[\"valid\"].value_counts(normalize=True))"
   ]
  },
  {
   "cell_type": "code",
   "execution_count": 4,
   "id": "24c865ce-c2bc-4c7d-ae1d-69619f1db6ad",
   "metadata": {
    "tags": []
   },
   "outputs": [
    {
     "data": {
      "text/html": [
       "<div>\n",
       "<style scoped>\n",
       "    .dataframe tbody tr th:only-of-type {\n",
       "        vertical-align: middle;\n",
       "    }\n",
       "\n",
       "    .dataframe tbody tr th {\n",
       "        vertical-align: top;\n",
       "    }\n",
       "\n",
       "    .dataframe thead th {\n",
       "        text-align: right;\n",
       "    }\n",
       "</style>\n",
       "<table border=\"1\" class=\"dataframe\">\n",
       "  <thead>\n",
       "    <tr style=\"text-align: right;\">\n",
       "      <th></th>\n",
       "      <th>valid</th>\n",
       "      <th>type</th>\n",
       "      <th>average</th>\n",
       "    </tr>\n",
       "  </thead>\n",
       "  <tbody>\n",
       "    <tr>\n",
       "      <th>0</th>\n",
       "      <td>False</td>\n",
       "      <td>cause</td>\n",
       "      <td>7.400709</td>\n",
       "    </tr>\n",
       "    <tr>\n",
       "      <th>1</th>\n",
       "      <td>False</td>\n",
       "      <td>effect</td>\n",
       "      <td>6.691489</td>\n",
       "    </tr>\n",
       "    <tr>\n",
       "      <th>2</th>\n",
       "      <td>True</td>\n",
       "      <td>cause</td>\n",
       "      <td>1.830110</td>\n",
       "    </tr>\n",
       "    <tr>\n",
       "      <th>3</th>\n",
       "      <td>True</td>\n",
       "      <td>effect</td>\n",
       "      <td>2.379834</td>\n",
       "    </tr>\n",
       "  </tbody>\n",
       "</table>\n",
       "</div>"
      ],
      "text/plain": [
       "   valid    type   average\n",
       "0  False   cause  7.400709\n",
       "1  False  effect  6.691489\n",
       "2   True   cause  1.830110\n",
       "3   True  effect  2.379834"
      ]
     },
     "execution_count": 4,
     "metadata": {},
     "output_type": "execute_result"
    }
   ],
   "source": [
    "# Melt the dataframe\n",
    "df_melted = data.melt(\n",
    "    id_vars=\"valid\",\n",
    "    value_vars=[\"cause_excess_count\", \"effect_excess_count\"],\n",
    "    var_name=\"type\",\n",
    "    value_name=\"count\",\n",
    ")\n",
    "\n",
    "# Map the 'type' column to more readable values\n",
    "df_melted[\"type\"] = df_melted[\"type\"].map(\n",
    "    {\"cause_excess_count\": \"cause\", \"effect_excess_count\": \"effect\"}\n",
    ")\n",
    "\n",
    "# Group by 'valid' and 'type' and calculate mean\n",
    "df_avg = df_melted.groupby([\"valid\", \"type\"]).mean().reset_index()\n",
    "\n",
    "# Rename the columns\n",
    "df_avg.columns = [\"valid\", \"type\", \"average\"]\n",
    "df_avg.head()"
   ]
  },
  {
   "cell_type": "code",
   "execution_count": 5,
   "id": "a5550f89-fe55-40d8-bc6d-2824d8af3a76",
   "metadata": {
    "tags": []
   },
   "outputs": [
    {
     "data": {
      "image/png": "[encoded data removed]",
      "text/plain": [
       "<Figure size 640x480 with 1 Axes>"
      ]
     },
     "metadata": {},
     "output_type": "display_data"
    }
   ],
   "source": [
    "df_melted.boxplot(column=\"count\", by=[\"valid\", \"type\"], grid=False)\n",
    "\n",
    "plt.title(\"Distribution of Cause/Effect Counts by Validity\")\n",
    "plt.suptitle(\"\")\n",
    "plt.ylabel(\"Count\")\n",
    "plt.xlabel(\"Type\")\n",
    "plt.xticks(\n",
    "    [1, 2, 3, 4],\n",
    "    [\n",
    "        \"Valid=True\\nCause\",\n",
    "        \"Valid=True\\nEffect\",\n",
    "        \"Valid=False\\nCause\",\n",
    "        \"Valid=False\\nEffect\",\n",
    "    ],\n",
    ")\n",
    "plt.show()"
   ]
  },
  {
   "cell_type": "code",
   "execution_count": 9,
   "id": "499dc00c-1a5a-4dd7-b83c-6d9cbdbd1f2a",
   "metadata": {
    "tags": []
   },
   "outputs": [
    {
     "name": "stdout",
     "output_type": "stream",
     "text": [
      "valid    type      count     mean      std    min    25%    50%    75%    max\n",
      "-------  ------  -------  -------  -------  -----  -----  -----  -----  -----\n",
      "False    cause       282  7.40071  7.42788      0      0      6     12     39\n",
      "False    effect      282  6.69149  7.04287      0      0      5     11     38\n",
      "True     cause       724  1.83011  3.24902      0      0      0      2     22\n",
      "True     effect      724  2.37983  2.83003      0      1      2      3     20\n"
     ]
    }
   ],
   "source": [
    "print(\n",
    "    df_melted.groupby([\"valid\", \"type\"])[\"count\"].describe()\n",
    "    .reset_index()\n",
    "    .to_markdown(index=False, tablefmt=\"simple\")\n",
    ")"
   ]
  },
  {
   "cell_type": "code",
   "execution_count": null,
   "id": "50e32d73-799d-4b64-b04e-40e6f642c47c",
   "metadata": {},
   "outputs": [],
   "source": []
  }
 ],
 "metadata": {
  "kernelspec": {
   "display_name": "Python 3 (ipykernel)",
   "language": "python",
   "name": "python3"
  },
  "language_info": {
   "codemirror_mode": {
    "name": "ipython",
    "version": 3
   },
   "file_extension": ".py",
   "mimetype": "text/x-python",
   "name": "python",
   "nbconvert_exporter": "python",
   "pygments_lexer": "ipython3",
   "version": "3.11.2"
  }
 },
 "nbformat": 4,
 "nbformat_minor": 5
}
