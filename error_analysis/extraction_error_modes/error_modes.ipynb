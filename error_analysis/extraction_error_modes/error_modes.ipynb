{
 "cells": [
  {
   "cell_type": "code",
   "execution_count": 1,
   "id": "91687e89-a212-4018-aabc-b004157c2a25",
   "metadata": {},
   "outputs": [],
   "source": [
    "import re\n",
    "\n",
    "import Levenshtein\n",
    "import matplotlib.pyplot as plt\n",
    "import pandas as pd"
   ]
  },
  {
   "cell_type": "code",
   "execution_count": 2,
   "id": "4f3b1108-9753-4fce-a1f8-b38a964a39ab",
   "metadata": {
    "tags": []
   },
   "outputs": [
    {
     "data": {
      "text/html": [
       "<div>\n",
       "<style scoped>\n",
       "    .dataframe tbody tr th:only-of-type {\n",
       "        vertical-align: middle;\n",
       "    }\n",
       "\n",
       "    .dataframe tbody tr th {\n",
       "        vertical-align: top;\n",
       "    }\n",
       "\n",
       "    .dataframe thead th {\n",
       "        text-align: right;\n",
       "    }\n",
       "</style>\n",
       "<table border=\"1\" class=\"dataframe\">\n",
       "  <thead>\n",
       "    <tr style=\"text-align: right;\">\n",
       "      <th></th>\n",
       "      <th>input</th>\n",
       "      <th>output</th>\n",
       "      <th>gold</th>\n",
       "    </tr>\n",
       "  </thead>\n",
       "  <tbody>\n",
       "    <tr>\n",
       "      <th>0</th>\n",
       "      <td>BB&amp;T and SunTrust have completed their merger,...</td>\n",
       "      <td>[Cause] BB&amp;T and SunTrust have completed their...</td>\n",
       "      <td>[Cause] BB&amp;T and SunTrust have completed their...</td>\n",
       "    </tr>\n",
       "    <tr>\n",
       "      <th>1</th>\n",
       "      <td>Given Tulip's lack of profitability (managemen...</td>\n",
       "      <td>[Cause] Tulip's lack of profitability [Relatio...</td>\n",
       "      <td>[Cause] Given Tulip's lack of profitability (m...</td>\n",
       "    </tr>\n",
       "    <tr>\n",
       "      <th>2</th>\n",
       "      <td>TC Energy's profitability is not directly tied...</td>\n",
       "      <td>[Cause] pipeline transportation costs are not ...</td>\n",
       "      <td>[Cause] pipeline transportation costs are not ...</td>\n",
       "    </tr>\n",
       "    <tr>\n",
       "      <th>3</th>\n",
       "      <td>That said, Wynn has recently renovated rooms a...</td>\n",
       "      <td>[Cause] Wynn has recently renovated rooms and ...</td>\n",
       "      <td>[Cause] Wynn has recently renovated rooms and ...</td>\n",
       "    </tr>\n",
       "    <tr>\n",
       "      <th>4</th>\n",
       "      <td>We are keeping our fair value estimate for Dan...</td>\n",
       "      <td>[Cause] recently generated cash flows and our ...</td>\n",
       "      <td>[Cause] recently generated cash flows and our ...</td>\n",
       "    </tr>\n",
       "  </tbody>\n",
       "</table>\n",
       "</div>"
      ],
      "text/plain": [
       "                                               input  \\\n",
       "0  BB&T and SunTrust have completed their merger,...   \n",
       "1  Given Tulip's lack of profitability (managemen...   \n",
       "2  TC Energy's profitability is not directly tied...   \n",
       "3  That said, Wynn has recently renovated rooms a...   \n",
       "4  We are keeping our fair value estimate for Dan...   \n",
       "\n",
       "                                              output  \\\n",
       "0  [Cause] BB&T and SunTrust have completed their...   \n",
       "1  [Cause] Tulip's lack of profitability [Relatio...   \n",
       "2  [Cause] pipeline transportation costs are not ...   \n",
       "3  [Cause] Wynn has recently renovated rooms and ...   \n",
       "4  [Cause] recently generated cash flows and our ...   \n",
       "\n",
       "                                                gold  \n",
       "0  [Cause] BB&T and SunTrust have completed their...  \n",
       "1  [Cause] Given Tulip's lack of profitability (m...  \n",
       "2  [Cause] pipeline transportation costs are not ...  \n",
       "3  [Cause] Wynn has recently renovated rooms and ...  \n",
       "4  [Cause] recently generated cash flows and our ...  "
      ]
     },
     "execution_count": 2,
     "metadata": {},
     "output_type": "execute_result"
    }
   ],
   "source": [
    "filename = \"prediction_output.json\"\n",
    "data = pd.read_json(filename)\n",
    "data.head()"
   ]
  },
  {
   "cell_type": "code",
   "execution_count": 3,
   "id": "3185d33a-4e19-4fb1-a9e0-e2cb14bf4736",
   "metadata": {},
   "outputs": [],
   "source": [
    "def parse_instance(answer: str) -> tuple[dict[str, list[str]], str | None]:\n",
    "    \"\"\"Parse string answer to separate into class and spans\n",
    "    Simple case:\n",
    "    [Cause] This is a cause [Effect] This is an effect\n",
    "\n",
    "    Complex case:\n",
    "    [Cause] This cause 1 | This cause 2 [Effect] This effect 1 | This effect 2\n",
    "    \"\"\"\n",
    "    # TODO (italo): Document the relation\n",
    "    matches = re.findall(r\"\\[Cause\\](.*?)\\[Relation\\](.*?)\\[Effect\\](.*?)$\", answer)\n",
    "    if not matches:\n",
    "        return {\n",
    "            \"Cause\": [],\n",
    "            \"Effect\": [],\n",
    "        }, \"cause\"\n",
    "    causes, relation, effects = matches[0]\n",
    "    causes = sorted(c.strip() for c in causes.split(\"|\") if c.strip())\n",
    "    effects = sorted(e.strip() for e in effects.split(\"|\") if e.strip())\n",
    "    relation = relation.strip()\n",
    "\n",
    "    return {\n",
    "        \"Cause\": causes,\n",
    "        \"Effect\": effects,\n",
    "    }, relation"
   ]
  },
  {
   "cell_type": "code",
   "execution_count": 4,
   "id": "f4dff314-f5b7-43f8-b11d-181590b42771",
   "metadata": {
    "tags": []
   },
   "outputs": [
    {
     "data": {
      "text/plain": [
       "({'Cause': ['BB&T and SunTrust have completed their merger, forming Truist'],\n",
       "  'Effect': ['drive the next step up in profitability for the franchises']},\n",
       " 'enable')"
      ]
     },
     "execution_count": 4,
     "metadata": {},
     "output_type": "execute_result"
    }
   ],
   "source": [
    "parse_instance(data.iloc[0].output)"
   ]
  },
  {
   "cell_type": "code",
   "execution_count": 5,
   "id": "ab9e36f0-d980-4430-99ae-829702221d9f",
   "metadata": {
    "tags": []
   },
   "outputs": [],
   "source": [
    "def parse(row: str, col: str) -> tuple[str | None, str | None]:\n",
    "    d, _ = parse_instance(row[col])\n",
    "    if not d[\"Cause\"] or not d[\"Effect\"]:\n",
    "        return None, None\n",
    "    return d[\"Cause\"][0], d[\"Effect\"][0]"
   ]
  },
  {
   "cell_type": "code",
   "execution_count": 6,
   "id": "aef755c6-2619-42f6-b8d0-c0f7935bc5b3",
   "metadata": {
    "tags": []
   },
   "outputs": [
    {
     "data": {
      "text/html": [
       "<div>\n",
       "<style scoped>\n",
       "    .dataframe tbody tr th:only-of-type {\n",
       "        vertical-align: middle;\n",
       "    }\n",
       "\n",
       "    .dataframe tbody tr th {\n",
       "        vertical-align: top;\n",
       "    }\n",
       "\n",
       "    .dataframe thead th {\n",
       "        text-align: right;\n",
       "    }\n",
       "</style>\n",
       "<table border=\"1\" class=\"dataframe\">\n",
       "  <thead>\n",
       "    <tr style=\"text-align: right;\">\n",
       "      <th></th>\n",
       "      <th>input</th>\n",
       "      <th>output</th>\n",
       "      <th>gold</th>\n",
       "      <th>pred_cause</th>\n",
       "      <th>pred_effect</th>\n",
       "      <th>gold_cause</th>\n",
       "      <th>gold_effect</th>\n",
       "    </tr>\n",
       "  </thead>\n",
       "  <tbody>\n",
       "    <tr>\n",
       "      <th>0</th>\n",
       "      <td>BB&amp;T and SunTrust have completed their merger,...</td>\n",
       "      <td>[Cause] BB&amp;T and SunTrust have completed their...</td>\n",
       "      <td>[Cause] BB&amp;T and SunTrust have completed their...</td>\n",
       "      <td>BB&amp;T and SunTrust have completed their merger,...</td>\n",
       "      <td>drive the next step up in profitability for th...</td>\n",
       "      <td>BB&amp;T and SunTrust have completed their merger,...</td>\n",
       "      <td>which we believe will drive the next step up i...</td>\n",
       "    </tr>\n",
       "    <tr>\n",
       "      <th>1</th>\n",
       "      <td>Given Tulip's lack of profitability (managemen...</td>\n",
       "      <td>[Cause] Tulip's lack of profitability [Relatio...</td>\n",
       "      <td>[Cause] Given Tulip's lack of profitability (m...</td>\n",
       "      <td>Tulip's lack of profitability</td>\n",
       "      <td>we do not believe the business maintains a cos...</td>\n",
       "      <td>Given Tulip's lack of profitability (managemen...</td>\n",
       "      <td>we do not believe the business maintains a cos...</td>\n",
       "    </tr>\n",
       "    <tr>\n",
       "      <th>2</th>\n",
       "      <td>TC Energy's profitability is not directly tied...</td>\n",
       "      <td>[Cause] pipeline transportation costs are not ...</td>\n",
       "      <td>[Cause] pipeline transportation costs are not ...</td>\n",
       "      <td>pipeline transportation costs are not tied to ...</td>\n",
       "      <td>TC Energy's profitability is not directly tied...</td>\n",
       "      <td>pipeline transportation costs are not tied to ...</td>\n",
       "      <td>TC Energy's profitability is not directly tied...</td>\n",
       "    </tr>\n",
       "    <tr>\n",
       "      <th>3</th>\n",
       "      <td>That said, Wynn has recently renovated rooms a...</td>\n",
       "      <td>[Cause] Wynn has recently renovated rooms and ...</td>\n",
       "      <td>[Cause] Wynn has recently renovated rooms and ...</td>\n",
       "      <td>Wynn has recently renovated rooms and the gami...</td>\n",
       "      <td>the facility maintain market share over the ne...</td>\n",
       "      <td>Wynn has recently renovated rooms and the gami...</td>\n",
       "      <td>help the facility maintain market share over t...</td>\n",
       "    </tr>\n",
       "    <tr>\n",
       "      <th>4</th>\n",
       "      <td>We are keeping our fair value estimate for Dan...</td>\n",
       "      <td>[Cause] recently generated cash flows and our ...</td>\n",
       "      <td>[Cause] recently generated cash flows and our ...</td>\n",
       "      <td>recently generated cash flows and our higher n...</td>\n",
       "      <td>We are keeping our fair value estimate for Dan...</td>\n",
       "      <td>recently generated cash flows and our higher n...</td>\n",
       "      <td>We are keeping our fair value estimate for Dan...</td>\n",
       "    </tr>\n",
       "  </tbody>\n",
       "</table>\n",
       "</div>"
      ],
      "text/plain": [
       "                                               input  \\\n",
       "0  BB&T and SunTrust have completed their merger,...   \n",
       "1  Given Tulip's lack of profitability (managemen...   \n",
       "2  TC Energy's profitability is not directly tied...   \n",
       "3  That said, Wynn has recently renovated rooms a...   \n",
       "4  We are keeping our fair value estimate for Dan...   \n",
       "\n",
       "                                              output  \\\n",
       "0  [Cause] BB&T and SunTrust have completed their...   \n",
       "1  [Cause] Tulip's lack of profitability [Relatio...   \n",
       "2  [Cause] pipeline transportation costs are not ...   \n",
       "3  [Cause] Wynn has recently renovated rooms and ...   \n",
       "4  [Cause] recently generated cash flows and our ...   \n",
       "\n",
       "                                                gold  \\\n",
       "0  [Cause] BB&T and SunTrust have completed their...   \n",
       "1  [Cause] Given Tulip's lack of profitability (m...   \n",
       "2  [Cause] pipeline transportation costs are not ...   \n",
       "3  [Cause] Wynn has recently renovated rooms and ...   \n",
       "4  [Cause] recently generated cash flows and our ...   \n",
       "\n",
       "                                          pred_cause  \\\n",
       "0  BB&T and SunTrust have completed their merger,...   \n",
       "1                      Tulip's lack of profitability   \n",
       "2  pipeline transportation costs are not tied to ...   \n",
       "3  Wynn has recently renovated rooms and the gami...   \n",
       "4  recently generated cash flows and our higher n...   \n",
       "\n",
       "                                         pred_effect  \\\n",
       "0  drive the next step up in profitability for th...   \n",
       "1  we do not believe the business maintains a cos...   \n",
       "2  TC Energy's profitability is not directly tied...   \n",
       "3  the facility maintain market share over the ne...   \n",
       "4  We are keeping our fair value estimate for Dan...   \n",
       "\n",
       "                                          gold_cause  \\\n",
       "0  BB&T and SunTrust have completed their merger,...   \n",
       "1  Given Tulip's lack of profitability (managemen...   \n",
       "2  pipeline transportation costs are not tied to ...   \n",
       "3  Wynn has recently renovated rooms and the gami...   \n",
       "4  recently generated cash flows and our higher n...   \n",
       "\n",
       "                                         gold_effect  \n",
       "0  which we believe will drive the next step up i...  \n",
       "1  we do not believe the business maintains a cos...  \n",
       "2  TC Energy's profitability is not directly tied...  \n",
       "3  help the facility maintain market share over t...  \n",
       "4  We are keeping our fair value estimate for Dan...  "
      ]
     },
     "execution_count": 6,
     "metadata": {},
     "output_type": "execute_result"
    }
   ],
   "source": [
    "df = data.copy()\n",
    "df[[\"pred_cause\", \"pred_effect\"]] = df.apply(\n",
    "    parse, col=\"output\", axis=1, result_type=\"expand\"\n",
    ")\n",
    "df[[\"gold_cause\", \"gold_effect\"]] = df.apply(\n",
    "    parse, col=\"gold\", axis=1, result_type=\"expand\"\n",
    ")\n",
    "# df = df.drop(columns=[\"output\", \"gold\"]).dropna()\n",
    "df = df.dropna()\n",
    "df.head()"
   ]
  },
  {
   "cell_type": "code",
   "execution_count": 7,
   "id": "b83e0d9d-07aa-4d32-b263-d35e708819e9",
   "metadata": {
    "tags": []
   },
   "outputs": [
    {
     "data": {
      "text/plain": [
       "1291"
      ]
     },
     "execution_count": 7,
     "metadata": {},
     "output_type": "execute_result"
    }
   ],
   "source": [
    "len(df.query(\"pred_effect != gold_effect\"))"
   ]
  },
  {
   "cell_type": "code",
   "execution_count": 8,
   "id": "6b90d198-2a0a-4918-9f12-587c095090eb",
   "metadata": {},
   "outputs": [
    {
     "data": {
      "text/plain": [
       "cause_substr\n",
       "True     669\n",
       "False    398\n",
       "Name: count, dtype: int64"
      ]
     },
     "execution_count": 8,
     "metadata": {},
     "output_type": "execute_result"
    }
   ],
   "source": [
    "def clean_str(s: str) -> str:\n",
    "    s = s.lower().strip()\n",
    "    return re.sub(r\"\\s\", \"\", s)\n",
    "\n",
    "\n",
    "def symm_substr(a: str, b: str) -> bool:\n",
    "    a = clean_str(a)\n",
    "    b = clean_str(b)\n",
    "    return a in b or b in a\n",
    "\n",
    "\n",
    "df[\"cause_substr\"] = df.apply(\n",
    "    lambda x: symm_substr(x[\"pred_cause\"], x[\"gold_cause\"]), axis=1\n",
    ")\n",
    "df.query(\"pred_cause != gold_cause\")[\"cause_substr\"].value_counts()"
   ]
  },
  {
   "cell_type": "code",
   "execution_count": 9,
   "id": "f04aa260-e099-424c-b1fd-06dd3a2ef64b",
   "metadata": {
    "tags": []
   },
   "outputs": [
    {
     "data": {
      "text/plain": [
       "effect_substr\n",
       "True     715\n",
       "False    352\n",
       "Name: count, dtype: int64"
      ]
     },
     "execution_count": 9,
     "metadata": {},
     "output_type": "execute_result"
    }
   ],
   "source": [
    "df[\"effect_substr\"] = df.apply(\n",
    "    lambda x: symm_substr(x[\"pred_effect\"], x[\"gold_effect\"]), axis=1\n",
    ")\n",
    "df.query(\"pred_cause != gold_cause\")[\"effect_substr\"].value_counts()"
   ]
  },
  {
   "cell_type": "code",
   "execution_count": 10,
   "id": "63142536-46bf-4d5d-9dd1-b044e49ea17e",
   "metadata": {
    "tags": []
   },
   "outputs": [
    {
     "name": "stdout",
     "output_type": "stream",
     "text": [
      "count    669.000000\n",
      "mean       7.038864\n",
      "std        6.093949\n",
      "min        0.000000\n",
      "25%        2.000000\n",
      "50%        6.000000\n",
      "75%       10.000000\n",
      "max       39.000000\n",
      "Name: cause_excess_count, dtype: float64\n"
     ]
    },
    {
     "data": {
      "text/html": [
       "<div>\n",
       "<style scoped>\n",
       "    .dataframe tbody tr th:only-of-type {\n",
       "        vertical-align: middle;\n",
       "    }\n",
       "\n",
       "    .dataframe tbody tr th {\n",
       "        vertical-align: top;\n",
       "    }\n",
       "\n",
       "    .dataframe thead th {\n",
       "        text-align: right;\n",
       "    }\n",
       "</style>\n",
       "<table border=\"1\" class=\"dataframe\">\n",
       "  <thead>\n",
       "    <tr style=\"text-align: right;\">\n",
       "      <th></th>\n",
       "      <th>input</th>\n",
       "      <th>output</th>\n",
       "      <th>gold</th>\n",
       "      <th>pred_cause</th>\n",
       "      <th>pred_effect</th>\n",
       "      <th>gold_cause</th>\n",
       "      <th>gold_effect</th>\n",
       "      <th>cause_substr</th>\n",
       "      <th>effect_substr</th>\n",
       "      <th>cause_excess</th>\n",
       "      <th>cause_excess_count</th>\n",
       "    </tr>\n",
       "  </thead>\n",
       "  <tbody>\n",
       "    <tr>\n",
       "      <th>1</th>\n",
       "      <td>Given Tulip's lack of profitability (managemen...</td>\n",
       "      <td>[Cause] Tulip's lack of profitability [Relatio...</td>\n",
       "      <td>[Cause] Given Tulip's lack of profitability (m...</td>\n",
       "      <td>Tulip's lack of profitability</td>\n",
       "      <td>we do not believe the business maintains a cos...</td>\n",
       "      <td>Given Tulip's lack of profitability (managemen...</td>\n",
       "      <td>we do not believe the business maintains a cos...</td>\n",
       "      <td>True</td>\n",
       "      <td>True</td>\n",
       "      <td>given  (management has stated the business was...</td>\n",
       "      <td>17</td>\n",
       "    </tr>\n",
       "    <tr>\n",
       "      <th>6</th>\n",
       "      <td>We expect a primary growth driver to be the 20...</td>\n",
       "      <td>[Cause] Beyond's products emit 90% less greenh...</td>\n",
       "      <td>[Cause]  Beyond's products emit 90% less green...</td>\n",
       "      <td>Beyond's products emit 90% less greenhouse gas...</td>\n",
       "      <td>a primary growth driver to be the 20% of consu...</td>\n",
       "      <td>Beyond's products emit 90% less greenhouse gas...</td>\n",
       "      <td>the 20% of consumers willing to adjust their h...</td>\n",
       "      <td>True</td>\n",
       "      <td>True</td>\n",
       "      <td>than their meat equivalents</td>\n",
       "      <td>4</td>\n",
       "    </tr>\n",
       "    <tr>\n",
       "      <th>10</th>\n",
       "      <td>This is largely attributable to greater capita...</td>\n",
       "      <td>[Cause] greater capital efficiency and busines...</td>\n",
       "      <td>[Cause] This is largely attributable to greate...</td>\n",
       "      <td>greater capital efficiency and business mix ti...</td>\n",
       "      <td>These high-yield loans drive the bank's except...</td>\n",
       "      <td>This is largely attributable to greater capita...</td>\n",
       "      <td>drive the bank's exceptional net interest marg...</td>\n",
       "      <td>True</td>\n",
       "      <td>True</td>\n",
       "      <td>this is largely attributable to</td>\n",
       "      <td>5</td>\n",
       "    </tr>\n",
       "    <tr>\n",
       "      <th>13</th>\n",
       "      <td>As evidence that Gap lacks a competitive edge,...</td>\n",
       "      <td>[Cause] Gap lacks a competitive edge [Relation...</td>\n",
       "      <td>[Cause]  evidence that Gap lacks a competitive...</td>\n",
       "      <td>Gap lacks a competitive edge</td>\n",
       "      <td>its operating margins and returns on invested ...</td>\n",
       "      <td>evidence that Gap lacks a competitive edge</td>\n",
       "      <td>its operating margins and returns on invested ...</td>\n",
       "      <td>True</td>\n",
       "      <td>True</td>\n",
       "      <td>evidence that</td>\n",
       "      <td>2</td>\n",
       "    </tr>\n",
       "    <tr>\n",
       "      <th>14</th>\n",
       "      <td>However, if people start opting to use debit c...</td>\n",
       "      <td>[Cause] people start opting to use debit cards...</td>\n",
       "      <td>[Cause]  people start opting to use debit card...</td>\n",
       "      <td>people start opting to use debit cards rather ...</td>\n",
       "      <td>eat into Discover's ability to generate intere...</td>\n",
       "      <td>people start opting to use debit cards</td>\n",
       "      <td>Discover's ability to generate interest income</td>\n",
       "      <td>True</td>\n",
       "      <td>True</td>\n",
       "      <td>rather than credit cards</td>\n",
       "      <td>4</td>\n",
       "    </tr>\n",
       "  </tbody>\n",
       "</table>\n",
       "</div>"
      ],
      "text/plain": [
       "                                                input  \\\n",
       "1   Given Tulip's lack of profitability (managemen...   \n",
       "6   We expect a primary growth driver to be the 20...   \n",
       "10  This is largely attributable to greater capita...   \n",
       "13  As evidence that Gap lacks a competitive edge,...   \n",
       "14  However, if people start opting to use debit c...   \n",
       "\n",
       "                                               output  \\\n",
       "1   [Cause] Tulip's lack of profitability [Relatio...   \n",
       "6   [Cause] Beyond's products emit 90% less greenh...   \n",
       "10  [Cause] greater capital efficiency and busines...   \n",
       "13  [Cause] Gap lacks a competitive edge [Relation...   \n",
       "14  [Cause] people start opting to use debit cards...   \n",
       "\n",
       "                                                 gold  \\\n",
       "1   [Cause] Given Tulip's lack of profitability (m...   \n",
       "6   [Cause]  Beyond's products emit 90% less green...   \n",
       "10  [Cause] This is largely attributable to greate...   \n",
       "13  [Cause]  evidence that Gap lacks a competitive...   \n",
       "14  [Cause]  people start opting to use debit card...   \n",
       "\n",
       "                                           pred_cause  \\\n",
       "1                       Tulip's lack of profitability   \n",
       "6   Beyond's products emit 90% less greenhouse gas...   \n",
       "10  greater capital efficiency and business mix ti...   \n",
       "13                       Gap lacks a competitive edge   \n",
       "14  people start opting to use debit cards rather ...   \n",
       "\n",
       "                                          pred_effect  \\\n",
       "1   we do not believe the business maintains a cos...   \n",
       "6   a primary growth driver to be the 20% of consu...   \n",
       "10  These high-yield loans drive the bank's except...   \n",
       "13  its operating margins and returns on invested ...   \n",
       "14  eat into Discover's ability to generate intere...   \n",
       "\n",
       "                                           gold_cause  \\\n",
       "1   Given Tulip's lack of profitability (managemen...   \n",
       "6   Beyond's products emit 90% less greenhouse gas...   \n",
       "10  This is largely attributable to greater capita...   \n",
       "13         evidence that Gap lacks a competitive edge   \n",
       "14             people start opting to use debit cards   \n",
       "\n",
       "                                          gold_effect  cause_substr  \\\n",
       "1   we do not believe the business maintains a cos...          True   \n",
       "6   the 20% of consumers willing to adjust their h...          True   \n",
       "10  drive the bank's exceptional net interest marg...          True   \n",
       "13  its operating margins and returns on invested ...          True   \n",
       "14     Discover's ability to generate interest income          True   \n",
       "\n",
       "    effect_substr                                       cause_excess  \\\n",
       "1            True  given  (management has stated the business was...   \n",
       "6            True                        than their meat equivalents   \n",
       "10           True                   this is largely attributable to    \n",
       "13           True                                     evidence that    \n",
       "14           True                           rather than credit cards   \n",
       "\n",
       "    cause_excess_count  \n",
       "1                   17  \n",
       "6                    4  \n",
       "10                   5  \n",
       "13                   2  \n",
       "14                   4  "
      ]
     },
     "execution_count": 10,
     "metadata": {},
     "output_type": "execute_result"
    }
   ],
   "source": [
    "def excess_words(a: str, b: str) -> int:\n",
    "    a = a.lower().strip()\n",
    "    b = b.lower().strip()\n",
    "\n",
    "    if a in b:\n",
    "        x = b.replace(a, \"\")\n",
    "    else:\n",
    "        x = a.replace(b, \"\")\n",
    "\n",
    "    return x\n",
    "\n",
    "\n",
    "def excess_words_count(a: str, b: str) -> int:\n",
    "    return len(excess_words(a, b).split())\n",
    "\n",
    "\n",
    "df_cause = df.query(\"(pred_cause != gold_cause) and cause_substr\").copy()\n",
    "df_cause[\"cause_excess\"] = df_cause.apply(\n",
    "    lambda x: excess_words(x[\"pred_cause\"], x[\"gold_cause\"]), axis=1\n",
    ")\n",
    "df_cause[\"cause_excess_count\"] = df_cause.apply(\n",
    "    lambda x: excess_words_count(x[\"pred_cause\"], x[\"gold_cause\"]), axis=1\n",
    ")\n",
    "print(df_cause['cause_excess_count'].describe())\n",
    "df_cause.head()"
   ]
  },
  {
   "cell_type": "code",
   "execution_count": 11,
   "id": "1195f740-9121-4403-a842-23113c97defc",
   "metadata": {
    "tags": []
   },
   "outputs": [
    {
     "data": {
      "image/png": "[encoded data removed]",
      "text/plain": [
       "<Figure size 1000x600 with 1 Axes>"
      ]
     },
     "metadata": {},
     "output_type": "display_data"
    }
   ],
   "source": [
    "plt.figure(figsize=(10, 6))\n",
    "\n",
    "excess_count = df_cause[\"cause_excess_count\"].value_counts().sort_index()\n",
    "ax = excess_count.plot(kind=\"bar\")\n",
    "ax.set_xticklabels(excess_count.index, rotation=0)\n",
    "\n",
    "plt.show()"
   ]
  },
  {
   "cell_type": "code",
   "execution_count": 12,
   "id": "7ef6ae3b-f006-4259-bdc7-802a7ebd2fb3",
   "metadata": {
    "tags": []
   },
   "outputs": [
    {
     "data": {
      "image/png": "[encoded data removed]",
      "text/plain": [
       "<Figure size 1000x600 with 1 Axes>"
      ]
     },
     "metadata": {},
     "output_type": "display_data"
    }
   ],
   "source": [
    "plt.figure(figsize=(10, 6))\n",
    "\n",
    "excess_count = df_cause[\"cause_excess_count\"].value_counts().sort_index().cumsum()\n",
    "ax = excess_count.plot(kind=\"bar\")\n",
    "ax.set_xticklabels(excess_count.index, rotation=0)\n",
    "\n",
    "percentiles = [0.8, 0.9, 0.95, 0.99]\n",
    "heights = [100, 50, 30, 10]\n",
    "for percentile, height in zip(percentiles, heights):\n",
    "    target_percentile = percentile * excess_count.max()\n",
    "    value_at_percentile = excess_count[excess_count >= target_percentile].index[0]\n",
    "    ax.axvline(x=value_at_percentile, color=\"black\", linestyle=\"--\")\n",
    "    ax.annotate(\n",
    "        f\"{int(percentile * 100)}%\",\n",
    "        (value_at_percentile + 0.1, target_percentile + height),\n",
    "        color=\"black\",\n",
    "    )\n",
    "\n",
    "plt.show()"
   ]
  },
  {
   "cell_type": "code",
   "execution_count": 13,
   "id": "1e2feeb7-5d65-43a5-88ca-1f0fb3e44df8",
   "metadata": {},
   "outputs": [
    {
     "name": "stdout",
     "output_type": "stream",
     "text": [
      "count    879.000000\n",
      "mean       5.374289\n",
      "std        5.326884\n",
      "min        1.000000\n",
      "25%        2.000000\n",
      "50%        3.000000\n",
      "75%        8.000000\n",
      "max       38.000000\n",
      "Name: effect_excess_count, dtype: float64\n"
     ]
    },
    {
     "data": {
      "text/html": [
       "<div>\n",
       "<style scoped>\n",
       "    .dataframe tbody tr th:only-of-type {\n",
       "        vertical-align: middle;\n",
       "    }\n",
       "\n",
       "    .dataframe tbody tr th {\n",
       "        vertical-align: top;\n",
       "    }\n",
       "\n",
       "    .dataframe thead th {\n",
       "        text-align: right;\n",
       "    }\n",
       "</style>\n",
       "<table border=\"1\" class=\"dataframe\">\n",
       "  <thead>\n",
       "    <tr style=\"text-align: right;\">\n",
       "      <th></th>\n",
       "      <th>input</th>\n",
       "      <th>output</th>\n",
       "      <th>gold</th>\n",
       "      <th>pred_cause</th>\n",
       "      <th>pred_effect</th>\n",
       "      <th>gold_cause</th>\n",
       "      <th>gold_effect</th>\n",
       "      <th>cause_substr</th>\n",
       "      <th>effect_substr</th>\n",
       "      <th>effect_excess</th>\n",
       "      <th>effect_excess_count</th>\n",
       "    </tr>\n",
       "  </thead>\n",
       "  <tbody>\n",
       "    <tr>\n",
       "      <th>0</th>\n",
       "      <td>BB&amp;T and SunTrust have completed their merger,...</td>\n",
       "      <td>[Cause] BB&amp;T and SunTrust have completed their...</td>\n",
       "      <td>[Cause] BB&amp;T and SunTrust have completed their...</td>\n",
       "      <td>BB&amp;T and SunTrust have completed their merger,...</td>\n",
       "      <td>drive the next step up in profitability for th...</td>\n",
       "      <td>BB&amp;T and SunTrust have completed their merger,...</td>\n",
       "      <td>which we believe will drive the next step up i...</td>\n",
       "      <td>True</td>\n",
       "      <td>True</td>\n",
       "      <td>which we believe will</td>\n",
       "      <td>4</td>\n",
       "    </tr>\n",
       "    <tr>\n",
       "      <th>3</th>\n",
       "      <td>That said, Wynn has recently renovated rooms a...</td>\n",
       "      <td>[Cause] Wynn has recently renovated rooms and ...</td>\n",
       "      <td>[Cause] Wynn has recently renovated rooms and ...</td>\n",
       "      <td>Wynn has recently renovated rooms and the gami...</td>\n",
       "      <td>the facility maintain market share over the ne...</td>\n",
       "      <td>Wynn has recently renovated rooms and the gami...</td>\n",
       "      <td>help the facility maintain market share over t...</td>\n",
       "      <td>True</td>\n",
       "      <td>True</td>\n",
       "      <td>help</td>\n",
       "      <td>1</td>\n",
       "    </tr>\n",
       "    <tr>\n",
       "      <th>5</th>\n",
       "      <td>We expect that management will continue to pur...</td>\n",
       "      <td>[Cause] management will continue to pursue acq...</td>\n",
       "      <td>[Cause]  management will continue to pursue ac...</td>\n",
       "      <td>management will continue to pursue acquisition...</td>\n",
       "      <td>further lower the cyclicality of Fortive's por...</td>\n",
       "      <td>management will continue to pursue acquisition...</td>\n",
       "      <td>the cyclicality of Fortive's portfolio</td>\n",
       "      <td>True</td>\n",
       "      <td>True</td>\n",
       "      <td>further lower</td>\n",
       "      <td>2</td>\n",
       "    </tr>\n",
       "    <tr>\n",
       "      <th>6</th>\n",
       "      <td>We expect a primary growth driver to be the 20...</td>\n",
       "      <td>[Cause] Beyond's products emit 90% less greenh...</td>\n",
       "      <td>[Cause]  Beyond's products emit 90% less green...</td>\n",
       "      <td>Beyond's products emit 90% less greenhouse gas...</td>\n",
       "      <td>a primary growth driver to be the 20% of consu...</td>\n",
       "      <td>Beyond's products emit 90% less greenhouse gas...</td>\n",
       "      <td>the 20% of consumers willing to adjust their h...</td>\n",
       "      <td>True</td>\n",
       "      <td>True</td>\n",
       "      <td>a primary growth driver to be</td>\n",
       "      <td>6</td>\n",
       "    </tr>\n",
       "    <tr>\n",
       "      <th>10</th>\n",
       "      <td>This is largely attributable to greater capita...</td>\n",
       "      <td>[Cause] greater capital efficiency and busines...</td>\n",
       "      <td>[Cause] This is largely attributable to greate...</td>\n",
       "      <td>greater capital efficiency and business mix ti...</td>\n",
       "      <td>These high-yield loans drive the bank's except...</td>\n",
       "      <td>This is largely attributable to greater capita...</td>\n",
       "      <td>drive the bank's exceptional net interest marg...</td>\n",
       "      <td>True</td>\n",
       "      <td>True</td>\n",
       "      <td>these high-yield loans</td>\n",
       "      <td>3</td>\n",
       "    </tr>\n",
       "  </tbody>\n",
       "</table>\n",
       "</div>"
      ],
      "text/plain": [
       "                                                input  \\\n",
       "0   BB&T and SunTrust have completed their merger,...   \n",
       "3   That said, Wynn has recently renovated rooms a...   \n",
       "5   We expect that management will continue to pur...   \n",
       "6   We expect a primary growth driver to be the 20...   \n",
       "10  This is largely attributable to greater capita...   \n",
       "\n",
       "                                               output  \\\n",
       "0   [Cause] BB&T and SunTrust have completed their...   \n",
       "3   [Cause] Wynn has recently renovated rooms and ...   \n",
       "5   [Cause] management will continue to pursue acq...   \n",
       "6   [Cause] Beyond's products emit 90% less greenh...   \n",
       "10  [Cause] greater capital efficiency and busines...   \n",
       "\n",
       "                                                 gold  \\\n",
       "0   [Cause] BB&T and SunTrust have completed their...   \n",
       "3   [Cause] Wynn has recently renovated rooms and ...   \n",
       "5   [Cause]  management will continue to pursue ac...   \n",
       "6   [Cause]  Beyond's products emit 90% less green...   \n",
       "10  [Cause] This is largely attributable to greate...   \n",
       "\n",
       "                                           pred_cause  \\\n",
       "0   BB&T and SunTrust have completed their merger,...   \n",
       "3   Wynn has recently renovated rooms and the gami...   \n",
       "5   management will continue to pursue acquisition...   \n",
       "6   Beyond's products emit 90% less greenhouse gas...   \n",
       "10  greater capital efficiency and business mix ti...   \n",
       "\n",
       "                                          pred_effect  \\\n",
       "0   drive the next step up in profitability for th...   \n",
       "3   the facility maintain market share over the ne...   \n",
       "5   further lower the cyclicality of Fortive's por...   \n",
       "6   a primary growth driver to be the 20% of consu...   \n",
       "10  These high-yield loans drive the bank's except...   \n",
       "\n",
       "                                           gold_cause  \\\n",
       "0   BB&T and SunTrust have completed their merger,...   \n",
       "3   Wynn has recently renovated rooms and the gami...   \n",
       "5   management will continue to pursue acquisition...   \n",
       "6   Beyond's products emit 90% less greenhouse gas...   \n",
       "10  This is largely attributable to greater capita...   \n",
       "\n",
       "                                          gold_effect  cause_substr  \\\n",
       "0   which we believe will drive the next step up i...          True   \n",
       "3   help the facility maintain market share over t...          True   \n",
       "5              the cyclicality of Fortive's portfolio          True   \n",
       "6   the 20% of consumers willing to adjust their h...          True   \n",
       "10  drive the bank's exceptional net interest marg...          True   \n",
       "\n",
       "    effect_substr                   effect_excess  effect_excess_count  \n",
       "0            True          which we believe will                     4  \n",
       "3            True                           help                     1  \n",
       "5            True                  further lower                     2  \n",
       "6            True  a primary growth driver to be                     6  \n",
       "10           True         these high-yield loans                     3  "
      ]
     },
     "execution_count": 13,
     "metadata": {},
     "output_type": "execute_result"
    }
   ],
   "source": [
    "df_effect = df.query(\"(pred_effect != gold_effect) and effect_substr\").copy()\n",
    "df_effect[\"effect_excess\"] = df_effect.apply(\n",
    "    lambda x: excess_words(x[\"pred_effect\"], x[\"gold_effect\"]), axis=1\n",
    ")\n",
    "df_effect[\"effect_excess_count\"] = df_effect.apply(\n",
    "    lambda x: excess_words_count(x[\"pred_effect\"], x[\"gold_effect\"]), axis=1\n",
    ")\n",
    "print(df_effect['effect_excess_count'].describe())\n",
    "df_effect.head()"
   ]
  },
  {
   "cell_type": "code",
   "execution_count": 14,
   "id": "3281031a-30f2-4c7c-ac48-e366eaeb5443",
   "metadata": {},
   "outputs": [
    {
     "data": {
      "text/plain": [
       "1597"
      ]
     },
     "execution_count": 14,
     "metadata": {},
     "output_type": "execute_result"
    }
   ],
   "source": [
    "df_diff = df.query(\"pred_cause != gold_cause or pred_effect != gold_effect\")\n",
    "len(df_diff)"
   ]
  },
  {
   "cell_type": "code",
   "execution_count": null,
   "id": "278b23b4-ca62-45ff-8458-f27accbb8cb7",
   "metadata": {
    "tags": []
   },
   "outputs": [],
   "source": []
  },
  {
   "cell_type": "code",
   "execution_count": 15,
   "id": "2a5ed929-64e6-40ef-aafe-51cd6aa04452",
   "metadata": {
    "tags": []
   },
   "outputs": [
    {
     "data": {
      "text/plain": [
       "cause_substr\n",
       "True    1360\n",
       "Name: count, dtype: int64"
      ]
     },
     "execution_count": 15,
     "metadata": {},
     "output_type": "execute_result"
    }
   ],
   "source": [
    "df.query(\"pred_cause == gold_cause\")['cause_substr'].value_counts()"
   ]
  },
  {
   "cell_type": "code",
   "execution_count": 16,
   "id": "0b3ea269-dc5e-4a7f-aa34-227e48fa2e62",
   "metadata": {
    "tags": []
   },
   "outputs": [
    {
     "data": {
      "text/plain": [
       "cause_substr\n",
       "True     1199\n",
       "False     398\n",
       "Name: count, dtype: int64"
      ]
     },
     "execution_count": 16,
     "metadata": {},
     "output_type": "execute_result"
    }
   ],
   "source": [
    "df_diff['cause_substr'].value_counts()"
   ]
  },
  {
   "cell_type": "code",
   "execution_count": 17,
   "id": "daf179db-0245-4264-80ff-8c193390f710",
   "metadata": {
    "tags": []
   },
   "outputs": [
    {
     "data": {
      "text/plain": [
       "effect_substr\n",
       "True     1185\n",
       "False     412\n",
       "Name: count, dtype: int64"
      ]
     },
     "execution_count": 17,
     "metadata": {},
     "output_type": "execute_result"
    }
   ],
   "source": [
    "df_diff['effect_substr'].value_counts()"
   ]
  },
  {
   "cell_type": "code",
   "execution_count": 18,
   "id": "c24d2ec4-a0c2-40c9-b766-68209738e803",
   "metadata": {
    "tags": []
   },
   "outputs": [
    {
     "data": {
      "text/plain": [
       "True     1006\n",
       "False     591\n",
       "Name: count, dtype: int64"
      ]
     },
     "execution_count": 18,
     "metadata": {},
     "output_type": "execute_result"
    }
   ],
   "source": [
    "(df_diff['cause_substr'] & df_diff['effect_substr']).value_counts()"
   ]
  },
  {
   "cell_type": "code",
   "execution_count": 19,
   "id": "0ff7b9cf-6405-437c-9fa2-028e0e0c94d8",
   "metadata": {
    "tags": []
   },
   "outputs": [
    {
     "data": {
      "text/plain": [
       "1006"
      ]
     },
     "execution_count": 19,
     "metadata": {},
     "output_type": "execute_result"
    }
   ],
   "source": [
    "df_substr = df_diff.query(\"cause_substr and effect_substr\").copy()\n",
    "len(df_substr)"
   ]
  },
  {
   "cell_type": "code",
   "execution_count": 20,
   "id": "27d7a1e0-eacf-4320-a737-4fffb883c6f4",
   "metadata": {
    "tags": []
   },
   "outputs": [
    {
     "data": {
      "text/plain": [
       "count    1006.00000\n",
       "mean        3.39165\n",
       "std         5.41177\n",
       "min         0.00000\n",
       "25%         0.00000\n",
       "50%         1.00000\n",
       "75%         5.00000\n",
       "max        39.00000\n",
       "Name: cause_excess_count, dtype: float64"
      ]
     },
     "execution_count": 20,
     "metadata": {},
     "output_type": "execute_result"
    }
   ],
   "source": [
    "df_substr[\"cause_excess\"] = df_substr.apply(\n",
    "    lambda x: excess_words(x[\"pred_cause\"], x[\"gold_cause\"]), axis=1\n",
    ")\n",
    "df_substr[\"cause_excess_count\"] = df_substr.apply(\n",
    "    lambda x: excess_words_count(x[\"pred_cause\"], x[\"gold_cause\"]), axis=1\n",
    ")\n",
    "df_substr[\"cause_excess_count\"].describe()"
   ]
  },
  {
   "cell_type": "code",
   "execution_count": 21,
   "id": "fbbe6454-a252-4b82-a971-2d894196092f",
   "metadata": {
    "tags": []
   },
   "outputs": [
    {
     "data": {
      "text/plain": [
       "count    1006.000000\n",
       "mean        3.588469\n",
       "std         4.835773\n",
       "min         0.000000\n",
       "25%         1.000000\n",
       "50%         2.000000\n",
       "75%         5.000000\n",
       "max        38.000000\n",
       "Name: effect_excess_count, dtype: float64"
      ]
     },
     "execution_count": 21,
     "metadata": {},
     "output_type": "execute_result"
    }
   ],
   "source": [
    "df_substr[\"effect_excess\"] = df_substr.apply(\n",
    "    lambda x: excess_words(x[\"pred_effect\"], x[\"gold_effect\"]), axis=1\n",
    ")\n",
    "df_substr[\"effect_excess_count\"] = df_substr.apply(\n",
    "    lambda x: excess_words_count(x[\"pred_effect\"], x[\"gold_effect\"]), axis=1\n",
    ")\n",
    "df_substr[\"effect_excess_count\"].describe()"
   ]
  },
  {
   "cell_type": "code",
   "execution_count": 22,
   "id": "8e92e723-cae6-4044-a3ac-087be9d26d64",
   "metadata": {
    "tags": []
   },
   "outputs": [
    {
     "data": {
      "text/html": [
       "<div>\n",
       "<style scoped>\n",
       "    .dataframe tbody tr th:only-of-type {\n",
       "        vertical-align: middle;\n",
       "    }\n",
       "\n",
       "    .dataframe tbody tr th {\n",
       "        vertical-align: top;\n",
       "    }\n",
       "\n",
       "    .dataframe thead th {\n",
       "        text-align: right;\n",
       "    }\n",
       "</style>\n",
       "<table border=\"1\" class=\"dataframe\">\n",
       "  <thead>\n",
       "    <tr style=\"text-align: right;\">\n",
       "      <th></th>\n",
       "      <th>input</th>\n",
       "      <th>output</th>\n",
       "      <th>gold</th>\n",
       "      <th>pred_cause</th>\n",
       "      <th>pred_effect</th>\n",
       "      <th>gold_cause</th>\n",
       "      <th>gold_effect</th>\n",
       "      <th>cause_substr</th>\n",
       "      <th>effect_substr</th>\n",
       "      <th>cause_excess</th>\n",
       "      <th>cause_excess_count</th>\n",
       "      <th>effect_excess</th>\n",
       "      <th>effect_excess_count</th>\n",
       "    </tr>\n",
       "  </thead>\n",
       "  <tbody>\n",
       "    <tr>\n",
       "      <th>0</th>\n",
       "      <td>BB&amp;T and SunTrust have completed their merger,...</td>\n",
       "      <td>[Cause] BB&amp;T and SunTrust have completed their...</td>\n",
       "      <td>[Cause] BB&amp;T and SunTrust have completed their...</td>\n",
       "      <td>BB&amp;T and SunTrust have completed their merger,...</td>\n",
       "      <td>drive the next step up in profitability for th...</td>\n",
       "      <td>BB&amp;T and SunTrust have completed their merger,...</td>\n",
       "      <td>which we believe will drive the next step up i...</td>\n",
       "      <td>True</td>\n",
       "      <td>True</td>\n",
       "      <td></td>\n",
       "      <td>0</td>\n",
       "      <td>which we believe will</td>\n",
       "      <td>4</td>\n",
       "    </tr>\n",
       "    <tr>\n",
       "      <th>1</th>\n",
       "      <td>Given Tulip's lack of profitability (managemen...</td>\n",
       "      <td>[Cause] Tulip's lack of profitability [Relatio...</td>\n",
       "      <td>[Cause] Given Tulip's lack of profitability (m...</td>\n",
       "      <td>Tulip's lack of profitability</td>\n",
       "      <td>we do not believe the business maintains a cos...</td>\n",
       "      <td>Given Tulip's lack of profitability (managemen...</td>\n",
       "      <td>we do not believe the business maintains a cos...</td>\n",
       "      <td>True</td>\n",
       "      <td>True</td>\n",
       "      <td>given  (management has stated the business was...</td>\n",
       "      <td>17</td>\n",
       "      <td></td>\n",
       "      <td>0</td>\n",
       "    </tr>\n",
       "    <tr>\n",
       "      <th>3</th>\n",
       "      <td>That said, Wynn has recently renovated rooms a...</td>\n",
       "      <td>[Cause] Wynn has recently renovated rooms and ...</td>\n",
       "      <td>[Cause] Wynn has recently renovated rooms and ...</td>\n",
       "      <td>Wynn has recently renovated rooms and the gami...</td>\n",
       "      <td>the facility maintain market share over the ne...</td>\n",
       "      <td>Wynn has recently renovated rooms and the gami...</td>\n",
       "      <td>help the facility maintain market share over t...</td>\n",
       "      <td>True</td>\n",
       "      <td>True</td>\n",
       "      <td></td>\n",
       "      <td>0</td>\n",
       "      <td>help</td>\n",
       "      <td>1</td>\n",
       "    </tr>\n",
       "    <tr>\n",
       "      <th>5</th>\n",
       "      <td>We expect that management will continue to pur...</td>\n",
       "      <td>[Cause] management will continue to pursue acq...</td>\n",
       "      <td>[Cause]  management will continue to pursue ac...</td>\n",
       "      <td>management will continue to pursue acquisition...</td>\n",
       "      <td>further lower the cyclicality of Fortive's por...</td>\n",
       "      <td>management will continue to pursue acquisition...</td>\n",
       "      <td>the cyclicality of Fortive's portfolio</td>\n",
       "      <td>True</td>\n",
       "      <td>True</td>\n",
       "      <td></td>\n",
       "      <td>0</td>\n",
       "      <td>further lower</td>\n",
       "      <td>2</td>\n",
       "    </tr>\n",
       "    <tr>\n",
       "      <th>6</th>\n",
       "      <td>We expect a primary growth driver to be the 20...</td>\n",
       "      <td>[Cause] Beyond's products emit 90% less greenh...</td>\n",
       "      <td>[Cause]  Beyond's products emit 90% less green...</td>\n",
       "      <td>Beyond's products emit 90% less greenhouse gas...</td>\n",
       "      <td>a primary growth driver to be the 20% of consu...</td>\n",
       "      <td>Beyond's products emit 90% less greenhouse gas...</td>\n",
       "      <td>the 20% of consumers willing to adjust their h...</td>\n",
       "      <td>True</td>\n",
       "      <td>True</td>\n",
       "      <td>than their meat equivalents</td>\n",
       "      <td>4</td>\n",
       "      <td>a primary growth driver to be</td>\n",
       "      <td>6</td>\n",
       "    </tr>\n",
       "  </tbody>\n",
       "</table>\n",
       "</div>"
      ],
      "text/plain": [
       "                                               input  \\\n",
       "0  BB&T and SunTrust have completed their merger,...   \n",
       "1  Given Tulip's lack of profitability (managemen...   \n",
       "3  That said, Wynn has recently renovated rooms a...   \n",
       "5  We expect that management will continue to pur...   \n",
       "6  We expect a primary growth driver to be the 20...   \n",
       "\n",
       "                                              output  \\\n",
       "0  [Cause] BB&T and SunTrust have completed their...   \n",
       "1  [Cause] Tulip's lack of profitability [Relatio...   \n",
       "3  [Cause] Wynn has recently renovated rooms and ...   \n",
       "5  [Cause] management will continue to pursue acq...   \n",
       "6  [Cause] Beyond's products emit 90% less greenh...   \n",
       "\n",
       "                                                gold  \\\n",
       "0  [Cause] BB&T and SunTrust have completed their...   \n",
       "1  [Cause] Given Tulip's lack of profitability (m...   \n",
       "3  [Cause] Wynn has recently renovated rooms and ...   \n",
       "5  [Cause]  management will continue to pursue ac...   \n",
       "6  [Cause]  Beyond's products emit 90% less green...   \n",
       "\n",
       "                                          pred_cause  \\\n",
       "0  BB&T and SunTrust have completed their merger,...   \n",
       "1                      Tulip's lack of profitability   \n",
       "3  Wynn has recently renovated rooms and the gami...   \n",
       "5  management will continue to pursue acquisition...   \n",
       "6  Beyond's products emit 90% less greenhouse gas...   \n",
       "\n",
       "                                         pred_effect  \\\n",
       "0  drive the next step up in profitability for th...   \n",
       "1  we do not believe the business maintains a cos...   \n",
       "3  the facility maintain market share over the ne...   \n",
       "5  further lower the cyclicality of Fortive's por...   \n",
       "6  a primary growth driver to be the 20% of consu...   \n",
       "\n",
       "                                          gold_cause  \\\n",
       "0  BB&T and SunTrust have completed their merger,...   \n",
       "1  Given Tulip's lack of profitability (managemen...   \n",
       "3  Wynn has recently renovated rooms and the gami...   \n",
       "5  management will continue to pursue acquisition...   \n",
       "6  Beyond's products emit 90% less greenhouse gas...   \n",
       "\n",
       "                                         gold_effect  cause_substr  \\\n",
       "0  which we believe will drive the next step up i...          True   \n",
       "1  we do not believe the business maintains a cos...          True   \n",
       "3  help the facility maintain market share over t...          True   \n",
       "5             the cyclicality of Fortive's portfolio          True   \n",
       "6  the 20% of consumers willing to adjust their h...          True   \n",
       "\n",
       "   effect_substr                                       cause_excess  \\\n",
       "0           True                                                      \n",
       "1           True  given  (management has stated the business was...   \n",
       "3           True                                                      \n",
       "5           True                                                      \n",
       "6           True                        than their meat equivalents   \n",
       "\n",
       "   cause_excess_count                   effect_excess  effect_excess_count  \n",
       "0                   0          which we believe will                     4  \n",
       "1                  17                                                    0  \n",
       "3                   0                           help                     1  \n",
       "5                   0                  further lower                     2  \n",
       "6                   4  a primary growth driver to be                     6  "
      ]
     },
     "execution_count": 22,
     "metadata": {},
     "output_type": "execute_result"
    }
   ],
   "source": [
    "df_substr.head()"
   ]
  },
  {
   "cell_type": "code",
   "execution_count": 23,
   "id": "e0953059-688d-454b-9907-a21ceb39b74b",
   "metadata": {
    "tags": []
   },
   "outputs": [],
   "source": [
    "df_substr.to_json(\"substr.json\", orient=\"records\")"
   ]
  },
  {
   "cell_type": "code",
   "execution_count": 24,
   "id": "0e90bf3d-ae68-4c5f-9ede-634e4b1b8252",
   "metadata": {},
   "outputs": [
    {
     "data": {
      "text/html": [
       "<div>\n",
       "<style scoped>\n",
       "    .dataframe tbody tr th:only-of-type {\n",
       "        vertical-align: middle;\n",
       "    }\n",
       "\n",
       "    .dataframe tbody tr th {\n",
       "        vertical-align: top;\n",
       "    }\n",
       "\n",
       "    .dataframe thead th {\n",
       "        text-align: right;\n",
       "    }\n",
       "</style>\n",
       "<table border=\"1\" class=\"dataframe\">\n",
       "  <thead>\n",
       "    <tr style=\"text-align: right;\">\n",
       "      <th></th>\n",
       "      <th>input</th>\n",
       "      <th>output</th>\n",
       "      <th>gold</th>\n",
       "      <th>pred_cause</th>\n",
       "      <th>pred_effect</th>\n",
       "      <th>gold_cause</th>\n",
       "      <th>gold_effect</th>\n",
       "      <th>cause_substr</th>\n",
       "      <th>effect_substr</th>\n",
       "    </tr>\n",
       "  </thead>\n",
       "  <tbody>\n",
       "    <tr>\n",
       "      <th>8</th>\n",
       "      <td>With governments on national, state, and local...</td>\n",
       "      <td>[Cause] COVID-19 [Relation] cause [Effect] bud...</td>\n",
       "      <td>[Cause] governments on national, state, and lo...</td>\n",
       "      <td>COVID-19</td>\n",
       "      <td>budget problems and emergency expenses</td>\n",
       "      <td>governments on national, state, and local leve...</td>\n",
       "      <td>the emergence of cannabis as a legal product h...</td>\n",
       "      <td>False</td>\n",
       "      <td>False</td>\n",
       "    </tr>\n",
       "    <tr>\n",
       "      <th>9</th>\n",
       "      <td>With governments on national, state, and local...</td>\n",
       "      <td>[Cause] the emergence of cannabis as a legal p...</td>\n",
       "      <td>[Cause] budget problems and emergency expenses...</td>\n",
       "      <td>the emergence of cannabis as a legal product</td>\n",
       "      <td>viewed as a funding panacea</td>\n",
       "      <td>budget problems and emergency expenses from CO...</td>\n",
       "      <td>governments on national, state, and local leve...</td>\n",
       "      <td>False</td>\n",
       "      <td>False</td>\n",
       "    </tr>\n",
       "    <tr>\n",
       "      <th>15</th>\n",
       "      <td>As licenses for these facilities are given by ...</td>\n",
       "      <td>[Cause] licenses for these facilities are give...</td>\n",
       "      <td>[Cause]  licenses for these facilities are giv...</td>\n",
       "      <td>licenses for these facilities are given by sta...</td>\n",
       "      <td>Teleflex could face supply disruptions</td>\n",
       "      <td>ethylene oxide becomes a priority for state of...</td>\n",
       "      <td>Teleflex could face supply disruptions</td>\n",
       "      <td>False</td>\n",
       "      <td>True</td>\n",
       "    </tr>\n",
       "    <tr>\n",
       "      <th>17</th>\n",
       "      <td>Additionally, properties located in desirable ...</td>\n",
       "      <td>[Cause] properties located in desirable submar...</td>\n",
       "      <td>[Cause] low crime statistics see higher demand...</td>\n",
       "      <td>properties located in desirable submarkets wit...</td>\n",
       "      <td>higher demand</td>\n",
       "      <td>low crime statistics see higher demand</td>\n",
       "      <td>higher rents and higher growth</td>\n",
       "      <td>False</td>\n",
       "      <td>False</td>\n",
       "    </tr>\n",
       "    <tr>\n",
       "      <th>40</th>\n",
       "      <td>Over the past decade, the HDD market has exper...</td>\n",
       "      <td>[Cause] an inability to meet the rising invest...</td>\n",
       "      <td>[Cause]  others have exited [Relation] cause [...</td>\n",
       "      <td>an inability to meet the rising investments to...</td>\n",
       "      <td>the number of players falling from 10 to three</td>\n",
       "      <td>others have exited</td>\n",
       "      <td>the number of players falling from 10 to three</td>\n",
       "      <td>False</td>\n",
       "      <td>True</td>\n",
       "    </tr>\n",
       "  </tbody>\n",
       "</table>\n",
       "</div>"
      ],
      "text/plain": [
       "                                                input  \\\n",
       "8   With governments on national, state, and local...   \n",
       "9   With governments on national, state, and local...   \n",
       "15  As licenses for these facilities are given by ...   \n",
       "17  Additionally, properties located in desirable ...   \n",
       "40  Over the past decade, the HDD market has exper...   \n",
       "\n",
       "                                               output  \\\n",
       "8   [Cause] COVID-19 [Relation] cause [Effect] bud...   \n",
       "9   [Cause] the emergence of cannabis as a legal p...   \n",
       "15  [Cause] licenses for these facilities are give...   \n",
       "17  [Cause] properties located in desirable submar...   \n",
       "40  [Cause] an inability to meet the rising invest...   \n",
       "\n",
       "                                                 gold  \\\n",
       "8   [Cause] governments on national, state, and lo...   \n",
       "9   [Cause] budget problems and emergency expenses...   \n",
       "15  [Cause]  licenses for these facilities are giv...   \n",
       "17  [Cause] low crime statistics see higher demand...   \n",
       "40  [Cause]  others have exited [Relation] cause [...   \n",
       "\n",
       "                                           pred_cause  \\\n",
       "8                                            COVID-19   \n",
       "9        the emergence of cannabis as a legal product   \n",
       "15  licenses for these facilities are given by sta...   \n",
       "17  properties located in desirable submarkets wit...   \n",
       "40  an inability to meet the rising investments to...   \n",
       "\n",
       "                                       pred_effect  \\\n",
       "8           budget problems and emergency expenses   \n",
       "9                      viewed as a funding panacea   \n",
       "15          Teleflex could face supply disruptions   \n",
       "17                                   higher demand   \n",
       "40  the number of players falling from 10 to three   \n",
       "\n",
       "                                           gold_cause  \\\n",
       "8   governments on national, state, and local leve...   \n",
       "9   budget problems and emergency expenses from CO...   \n",
       "15  ethylene oxide becomes a priority for state of...   \n",
       "17             low crime statistics see higher demand   \n",
       "40                                 others have exited   \n",
       "\n",
       "                                          gold_effect  cause_substr  \\\n",
       "8   the emergence of cannabis as a legal product h...         False   \n",
       "9   governments on national, state, and local leve...         False   \n",
       "15             Teleflex could face supply disruptions         False   \n",
       "17                     higher rents and higher growth         False   \n",
       "40     the number of players falling from 10 to three         False   \n",
       "\n",
       "    effect_substr  \n",
       "8           False  \n",
       "9           False  \n",
       "15           True  \n",
       "17          False  \n",
       "40           True  "
      ]
     },
     "execution_count": 24,
     "metadata": {},
     "output_type": "execute_result"
    }
   ],
   "source": [
    "df_nosub = df.query(\"(pred_cause != gold_cause) and (not cause_substr or not effect_substr)\").copy()\n",
    "df_nosub.head()"
   ]
  },
  {
   "cell_type": "code",
   "execution_count": 25,
   "id": "aed425e9-e759-4b41-997e-e773aecb13bb",
   "metadata": {
    "tags": []
   },
   "outputs": [
    {
     "data": {
      "text/html": [
       "<div>\n",
       "<style scoped>\n",
       "    .dataframe tbody tr th:only-of-type {\n",
       "        vertical-align: middle;\n",
       "    }\n",
       "\n",
       "    .dataframe tbody tr th {\n",
       "        vertical-align: top;\n",
       "    }\n",
       "\n",
       "    .dataframe thead th {\n",
       "        text-align: right;\n",
       "    }\n",
       "</style>\n",
       "<table border=\"1\" class=\"dataframe\">\n",
       "  <thead>\n",
       "    <tr style=\"text-align: right;\">\n",
       "      <th></th>\n",
       "      <th>cause_substr</th>\n",
       "      <th>effect_substr</th>\n",
       "      <th>input</th>\n",
       "    </tr>\n",
       "  </thead>\n",
       "  <tbody>\n",
       "    <tr>\n",
       "      <th>0</th>\n",
       "      <td>False</td>\n",
       "      <td>False</td>\n",
       "      <td>219</td>\n",
       "    </tr>\n",
       "    <tr>\n",
       "      <th>1</th>\n",
       "      <td>False</td>\n",
       "      <td>True</td>\n",
       "      <td>179</td>\n",
       "    </tr>\n",
       "    <tr>\n",
       "      <th>2</th>\n",
       "      <td>True</td>\n",
       "      <td>False</td>\n",
       "      <td>133</td>\n",
       "    </tr>\n",
       "  </tbody>\n",
       "</table>\n",
       "</div>"
      ],
      "text/plain": [
       "   cause_substr  effect_substr  input\n",
       "0         False          False    219\n",
       "1         False           True    179\n",
       "2          True          False    133"
      ]
     },
     "execution_count": 25,
     "metadata": {},
     "output_type": "execute_result"
    }
   ],
   "source": [
    "nosub_agg = df_nosub.groupby([\"cause_substr\", \"effect_substr\"])['input'].count().reset_index()\n",
    "nosub_agg"
   ]
  },
  {
   "cell_type": "code",
   "execution_count": 26,
   "id": "6170ab36-e3a3-43f2-a304-cc1657d0b125",
   "metadata": {
    "tags": []
   },
   "outputs": [
    {
     "name": "stdout",
     "output_type": "stream",
     "text": [
      "cause_substr    effect_substr      input\n",
      "--------------  ---------------  -------\n",
      "False           False                219\n",
      "False           True                 179\n",
      "True            False                133\n"
     ]
    }
   ],
   "source": [
    "print(nosub_agg.to_markdown(tablefmt=\"simple\", index=False))"
   ]
  },
  {
   "cell_type": "code",
   "execution_count": 27,
   "id": "6feab16b-e8cb-4eae-a632-633de561f970",
   "metadata": {
    "tags": []
   },
   "outputs": [
    {
     "data": {
      "text/plain": [
       "(531, 9)"
      ]
     },
     "execution_count": 27,
     "metadata": {},
     "output_type": "execute_result"
    }
   ],
   "source": [
    "df_nosub.shape"
   ]
  },
  {
   "cell_type": "code",
   "execution_count": 28,
   "id": "b0a962a8-6c87-4813-bce0-55e7c4e4ecdb",
   "metadata": {
    "tags": []
   },
   "outputs": [],
   "source": [
    "df_nosub.to_json(\"prediction_nosubstr.json\", orient=\"records\")"
   ]
  },
  {
   "cell_type": "code",
   "execution_count": null,
   "id": "8e486ddb-8d6d-48fe-815e-9d5706a868b3",
   "metadata": {},
   "outputs": [],
   "source": []
  }
 ],
 "metadata": {
  "kernelspec": {
   "display_name": "Python 3 (ipykernel)",
   "language": "python",
   "name": "python3"
  },
  "language_info": {
   "codemirror_mode": {
    "name": "ipython",
    "version": 3
   },
   "file_extension": ".py",
   "mimetype": "text/x-python",
   "name": "python",
   "nbconvert_exporter": "python",
   "pygments_lexer": "ipython3",
   "version": "3.11.2"
  }
 },
 "nbformat": 4,
 "nbformat_minor": 5
}
