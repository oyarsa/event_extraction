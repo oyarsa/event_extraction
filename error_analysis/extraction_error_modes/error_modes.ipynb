{
 "cells": [
  {
   "cell_type": "code",
   "execution_count": null,
   "id": "91687e89-a212-4018-aabc-b004157c2a25",
   "metadata": {},
   "outputs": [],
   "source": [
    "import re\n",
    "\n",
    "import matplotlib.pyplot as plt\n",
    "import pandas as pd"
   ]
  },
  {
   "cell_type": "code",
   "execution_count": null,
   "id": "4f3b1108-9753-4fce-a1f8-b38a964a39ab",
   "metadata": {
    "tags": []
   },
   "outputs": [],
   "source": [
    "filename = \"data/rl_eval_results2.json\"\n",
    "data = pd.read_json(filename)\n",
    "data.head()"
   ]
  },
  {
   "cell_type": "code",
   "execution_count": null,
   "id": "3185d33a-4e19-4fb1-a9e0-e2cb14bf4736",
   "metadata": {},
   "outputs": [],
   "source": [
    "def parse_instance(answer: str) -> tuple[dict[str, list[str]], str | None]:\n",
    "    \"\"\"Parse string answer to separate into class and spans\n",
    "    Simple case:\n",
    "    [Cause] This is a cause [Effect] This is an effect\n",
    "\n",
    "    Complex case:\n",
    "    [Cause] This cause 1 | This cause 2 [Effect] This effect 1 | This effect 2\n",
    "    \"\"\"\n",
    "    # TODO (italo): Document the relation\n",
    "    matches = re.findall(r\"\\[Cause\\](.*?)\\[Relation\\](.*?)\\[Effect\\](.*?)$\", answer)\n",
    "    if not matches:\n",
    "        return {\n",
    "            \"Cause\": [],\n",
    "            \"Effect\": [],\n",
    "        }, \"cause\"\n",
    "    causes, relation, effects = matches[0]\n",
    "    causes = sorted(c.strip() for c in causes.split(\"|\") if c.strip())\n",
    "    effects = sorted(e.strip() for e in effects.split(\"|\") if e.strip())\n",
    "    relation = relation.strip()\n",
    "\n",
    "    return {\n",
    "        \"Cause\": causes,\n",
    "        \"Effect\": effects,\n",
    "    }, relation"
   ]
  },
  {
   "cell_type": "code",
   "execution_count": null,
   "id": "f4dff314-f5b7-43f8-b11d-181590b42771",
   "metadata": {
    "tags": []
   },
   "outputs": [],
   "source": [
    "parse_instance(data.iloc[0].output)"
   ]
  },
  {
   "cell_type": "code",
   "execution_count": null,
   "id": "ab9e36f0-d980-4430-99ae-829702221d9f",
   "metadata": {
    "tags": []
   },
   "outputs": [],
   "source": [
    "def parse(row: str, col: str) -> tuple[str | None, str | None]:\n",
    "    d, _ = parse_instance(row[col])\n",
    "    if not d[\"Cause\"] or not d[\"Effect\"]:\n",
    "        return None, None\n",
    "    return d[\"Cause\"][0], d[\"Effect\"][0]"
   ]
  },
  {
   "cell_type": "code",
   "execution_count": null,
   "id": "aef755c6-2619-42f6-b8d0-c0f7935bc5b3",
   "metadata": {
    "tags": []
   },
   "outputs": [],
   "source": [
    "df = data.copy()\n",
    "df[[\"pred_cause\", \"pred_effect\"]] = df.apply(\n",
    "    parse, col=\"output\", axis=1, result_type=\"expand\"\n",
    ")\n",
    "df[[\"gold_cause\", \"gold_effect\"]] = df.apply(\n",
    "    parse, col=\"gold\", axis=1, result_type=\"expand\"\n",
    ")\n",
    "# df = df.drop(columns=[\"output\", \"gold\"]).dropna()\n",
    "df = df.dropna()\n",
    "df.head()"
   ]
  },
  {
   "cell_type": "code",
   "execution_count": null,
   "id": "b83e0d9d-07aa-4d32-b263-d35e708819e9",
   "metadata": {
    "tags": []
   },
   "outputs": [],
   "source": [
    "len(df.query(\"pred_effect != gold_effect\"))"
   ]
  },
  {
   "cell_type": "code",
   "execution_count": null,
   "id": "6b90d198-2a0a-4918-9f12-587c095090eb",
   "metadata": {},
   "outputs": [],
   "source": [
    "def clean_str(s: str) -> str:\n",
    "    s = s.lower().strip()\n",
    "    return re.sub(r\"\\s\", \"\", s)\n",
    "\n",
    "\n",
    "def symm_substr(a: str, b: str) -> bool:\n",
    "    a = clean_str(a)\n",
    "    b = clean_str(b)\n",
    "    return a in b or b in a\n",
    "\n",
    "\n",
    "df[\"cause_substr\"] = df.apply(\n",
    "    lambda x: symm_substr(x[\"pred_cause\"], x[\"gold_cause\"]), axis=1\n",
    ")\n",
    "df.query(\"pred_cause != gold_cause\")[\"cause_substr\"].value_counts()"
   ]
  },
  {
   "cell_type": "code",
   "execution_count": null,
   "id": "f04aa260-e099-424c-b1fd-06dd3a2ef64b",
   "metadata": {
    "tags": []
   },
   "outputs": [],
   "source": [
    "df[\"effect_substr\"] = df.apply(\n",
    "    lambda x: symm_substr(x[\"pred_effect\"], x[\"gold_effect\"]), axis=1\n",
    ")\n",
    "df.query(\"pred_cause != gold_cause\")[\"effect_substr\"].value_counts()"
   ]
  },
  {
   "cell_type": "code",
   "execution_count": null,
   "id": "63142536-46bf-4d5d-9dd1-b044e49ea17e",
   "metadata": {
    "tags": []
   },
   "outputs": [],
   "source": [
    "def excess_words(a: str, b: str) -> int:\n",
    "    a = a.lower().strip()\n",
    "    b = b.lower().strip()\n",
    "\n",
    "    if a in b:\n",
    "        x = b.replace(a, \"\")\n",
    "    else:\n",
    "        x = a.replace(b, \"\")\n",
    "\n",
    "    return x\n",
    "\n",
    "\n",
    "def excess_words_count(a: str, b: str) -> int:\n",
    "    return len(excess_words(a, b).split())\n",
    "\n",
    "\n",
    "df_cause = df.query(\"(pred_cause != gold_cause) and cause_substr\").copy()\n",
    "df_cause[\"cause_excess\"] = df_cause.apply(\n",
    "    lambda x: excess_words(x[\"pred_cause\"], x[\"gold_cause\"]), axis=1\n",
    ")\n",
    "df_cause[\"cause_excess_count\"] = df_cause.apply(\n",
    "    lambda x: excess_words_count(x[\"pred_cause\"], x[\"gold_cause\"]), axis=1\n",
    ")\n",
    "print(df_cause['cause_excess_count'].describe())\n",
    "df_cause.head()"
   ]
  },
  {
   "cell_type": "code",
   "execution_count": null,
   "id": "1195f740-9121-4403-a842-23113c97defc",
   "metadata": {
    "tags": []
   },
   "outputs": [],
   "source": [
    "plt.figure(figsize=(10, 6))\n",
    "\n",
    "excess_count = df_cause[\"cause_excess_count\"].value_counts().sort_index()\n",
    "ax = excess_count.plot(kind=\"bar\")\n",
    "ax.set_xticklabels(excess_count.index, rotation=0)\n",
    "\n",
    "plt.show()"
   ]
  },
  {
   "cell_type": "code",
   "execution_count": null,
   "id": "7ef6ae3b-f006-4259-bdc7-802a7ebd2fb3",
   "metadata": {
    "tags": []
   },
   "outputs": [],
   "source": [
    "plt.figure(figsize=(10, 6))\n",
    "\n",
    "excess_count = df_cause[\"cause_excess_count\"].value_counts().sort_index().cumsum()\n",
    "ax = excess_count.plot(kind=\"bar\")\n",
    "ax.set_xticklabels(excess_count.index, rotation=0)\n",
    "\n",
    "percentiles = [0.8, 0.9, 0.95, 0.99]\n",
    "heights = [100, 50, 30, 10]\n",
    "for percentile, height in zip(percentiles, heights):\n",
    "    target_percentile = percentile * excess_count.max()\n",
    "    value_at_percentile = excess_count[excess_count >= target_percentile].index[0]\n",
    "    ax.axvline(x=value_at_percentile, color=\"black\", linestyle=\"--\")\n",
    "    ax.annotate(\n",
    "        f\"{int(percentile * 100)}%\",\n",
    "        (value_at_percentile + 0.1, target_percentile + height),\n",
    "        color=\"black\",\n",
    "    )\n",
    "\n",
    "plt.show()"
   ]
  },
  {
   "cell_type": "code",
   "execution_count": null,
   "id": "1e2feeb7-5d65-43a5-88ca-1f0fb3e44df8",
   "metadata": {},
   "outputs": [],
   "source": [
    "df_effect = df.query(\"(pred_effect != gold_effect) and effect_substr\").copy()\n",
    "df_effect[\"effect_excess\"] = df_effect.apply(\n",
    "    lambda x: excess_words(x[\"pred_effect\"], x[\"gold_effect\"]), axis=1\n",
    ")\n",
    "df_effect[\"effect_excess_count\"] = df_effect.apply(\n",
    "    lambda x: excess_words_count(x[\"pred_effect\"], x[\"gold_effect\"]), axis=1\n",
    ")\n",
    "print(df_effect['effect_excess_count'].describe())\n",
    "df_effect.head()"
   ]
  },
  {
   "cell_type": "code",
   "execution_count": null,
   "id": "3281031a-30f2-4c7c-ac48-e366eaeb5443",
   "metadata": {},
   "outputs": [],
   "source": [
    "df_diff = df.query(\"pred_cause != gold_cause or pred_effect != gold_effect\")\n",
    "len(df_diff)"
   ]
  },
  {
   "cell_type": "code",
   "execution_count": null,
   "id": "2a5ed929-64e6-40ef-aafe-51cd6aa04452",
   "metadata": {
    "tags": []
   },
   "outputs": [],
   "source": [
    "df.query(\"pred_cause == gold_cause\")['cause_substr'].value_counts()"
   ]
  },
  {
   "cell_type": "code",
   "execution_count": null,
   "id": "0b3ea269-dc5e-4a7f-aa34-227e48fa2e62",
   "metadata": {
    "tags": []
   },
   "outputs": [],
   "source": [
    "df_diff['cause_substr'].value_counts()"
   ]
  },
  {
   "cell_type": "code",
   "execution_count": null,
   "id": "daf179db-0245-4264-80ff-8c193390f710",
   "metadata": {
    "tags": []
   },
   "outputs": [],
   "source": [
    "df_diff['effect_substr'].value_counts()"
   ]
  },
  {
   "cell_type": "code",
   "execution_count": null,
   "id": "c24d2ec4-a0c2-40c9-b766-68209738e803",
   "metadata": {
    "tags": []
   },
   "outputs": [],
   "source": [
    "(df_diff['cause_substr'] & df_diff['effect_substr']).value_counts()"
   ]
  },
  {
   "cell_type": "code",
   "execution_count": null,
   "id": "0ff7b9cf-6405-437c-9fa2-028e0e0c94d8",
   "metadata": {
    "tags": []
   },
   "outputs": [],
   "source": [
    "df_substr = df_diff.query(\"cause_substr and effect_substr\").copy()\n",
    "len(df_substr)"
   ]
  },
  {
   "cell_type": "code",
   "execution_count": null,
   "id": "27d7a1e0-eacf-4320-a737-4fffb883c6f4",
   "metadata": {
    "tags": []
   },
   "outputs": [],
   "source": [
    "df_substr[\"cause_excess\"] = df_substr.apply(\n",
    "    lambda x: excess_words(x[\"pred_cause\"], x[\"gold_cause\"]), axis=1\n",
    ")\n",
    "df_substr[\"cause_excess_count\"] = df_substr.apply(\n",
    "    lambda x: excess_words_count(x[\"pred_cause\"], x[\"gold_cause\"]), axis=1\n",
    ")\n",
    "df_substr[\"cause_excess_count\"].describe()"
   ]
  },
  {
   "cell_type": "code",
   "execution_count": null,
   "id": "fbbe6454-a252-4b82-a971-2d894196092f",
   "metadata": {
    "tags": []
   },
   "outputs": [],
   "source": [
    "df_substr[\"effect_excess\"] = df_substr.apply(\n",
    "    lambda x: excess_words(x[\"pred_effect\"], x[\"gold_effect\"]), axis=1\n",
    ")\n",
    "df_substr[\"effect_excess_count\"] = df_substr.apply(\n",
    "    lambda x: excess_words_count(x[\"pred_effect\"], x[\"gold_effect\"]), axis=1\n",
    ")\n",
    "df_substr[\"effect_excess_count\"].describe()"
   ]
  },
  {
   "cell_type": "code",
   "execution_count": null,
   "id": "8e92e723-cae6-4044-a3ac-087be9d26d64",
   "metadata": {
    "tags": []
   },
   "outputs": [],
   "source": [
    "df_substr.head()"
   ]
  },
  {
   "cell_type": "code",
   "execution_count": null,
   "id": "e0953059-688d-454b-9907-a21ceb39b74b",
   "metadata": {
    "tags": []
   },
   "outputs": [],
   "source": [
    "df_substr.to_json(\"rl_eval_substr.json\", orient=\"records\")"
   ]
  },
  {
   "cell_type": "code",
   "execution_count": null,
   "id": "0e90bf3d-ae68-4c5f-9ede-634e4b1b8252",
   "metadata": {},
   "outputs": [],
   "source": [
    "df_nosub = df.query(\"(pred_cause != gold_cause) and (not cause_substr or not effect_substr)\").copy()\n",
    "df_nosub.head()"
   ]
  },
  {
   "cell_type": "code",
   "execution_count": null,
   "id": "aed425e9-e759-4b41-997e-e773aecb13bb",
   "metadata": {
    "tags": []
   },
   "outputs": [],
   "source": [
    "nosub_agg = df_nosub.groupby([\"cause_substr\", \"effect_substr\"])['input'].count().reset_index()\n",
    "nosub_agg"
   ]
  },
  {
   "cell_type": "code",
   "execution_count": null,
   "id": "6170ab36-e3a3-43f2-a304-cc1657d0b125",
   "metadata": {
    "tags": []
   },
   "outputs": [],
   "source": [
    "print(nosub_agg.to_markdown(tablefmt=\"simple\", index=False))"
   ]
  },
  {
   "cell_type": "code",
   "execution_count": null,
   "id": "6feab16b-e8cb-4eae-a632-633de561f970",
   "metadata": {
    "tags": []
   },
   "outputs": [],
   "source": [
    "df_nosub.shape"
   ]
  },
  {
   "cell_type": "code",
   "execution_count": null,
   "id": "b0a962a8-6c87-4813-bce0-55e7c4e4ecdb",
   "metadata": {
    "tags": []
   },
   "outputs": [],
   "source": [
    "df_nosub.to_json(\"rl_eval_nosubstr.json\", orient=\"records\")"
   ]
  }
 ],
 "metadata": {
  "kernelspec": {
   "display_name": "Python 3 (ipykernel)",
   "language": "python",
   "name": "python3"
  },
  "language_info": {
   "codemirror_mode": {
    "name": "ipython",
    "version": 3
   },
   "file_extension": ".py",
   "mimetype": "text/x-python",
   "name": "python",
   "nbconvert_exporter": "python",
   "pygments_lexer": "ipython3",
   "version": "3.11.1"
  }
 },
 "nbformat": 4,
 "nbformat_minor": 5
}
