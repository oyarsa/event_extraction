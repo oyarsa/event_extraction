{
 "cells": [
  {
   "cell_type": "code",
   "execution_count": null,
   "id": "aef74549-ab7c-43f6-bcb9-45362fb70c80",
   "metadata": {},
   "outputs": [],
   "source": [
    "import json\n",
    "import re\n",
    "from pathlib import Path\n",
    "\n",
    "import matplotlib.pyplot as plt"
   ]
  },
  {
   "cell_type": "code",
   "execution_count": null,
   "id": "672f2d2a-6446-4a9f-b796-47083802560c",
   "metadata": {
    "tags": []
   },
   "outputs": [],
   "source": [
    "path = Path(\n",
    "    \"/media/storage/dev/event_extraction/self_critique/output/rl/2023-10-16T20:10:59.512105\"\n",
    ")\n",
    "key = \"reward_label\"\n",
    "class_ = \"entailment\""
   ]
  },
  {
   "cell_type": "code",
   "execution_count": null,
   "id": "a5a7a498-895e-4abc-a1a2-69880ccf01cb",
   "metadata": {
    "tags": []
   },
   "outputs": [],
   "source": [
    "epoch_batch: list[str] = []\n",
    "ratios: list[float] = []\n",
    "\n",
    "for filename in path.iterdir():\n",
    "    matches = re.findall(r\"mini_eval_result_(\\d+)\\.(\\d+).json\", filename.name)\n",
    "    if not matches:\n",
    "        continue\n",
    "    data = json.loads(filename.read_text())\n",
    "\n",
    "    epoch, batch = map(int, matches[0])\n",
    "    ratio = sum(x[key].casefold() == class_.casefold() for x in data) / len(data)\n",
    "    \n",
    "    epoch_batch.append(f\"{epoch}.{batch}\")\n",
    "    ratios.append(ratio)\n",
    "\n",
    "epoch_batch = sorted(epoch_batch, key=lambda x: float(x))"
   ]
  },
  {
   "cell_type": "code",
   "execution_count": null,
   "id": "a79acab7-ae6d-404c-b67e-587977e60a89",
   "metadata": {
    "tags": []
   },
   "outputs": [],
   "source": [
    "samples = 3\n",
    "plt.figure(figsize=(10, 10))\n",
    "plt.plot(epoch_batch[::samples], ratios[::samples])\n",
    "plt.ylabel(f'{class_.capitalize()} ratio')\n",
    "plt.xlabel('Epoch.batch')\n",
    "plt.xticks(rotation=45)\n",
    "plt.show()"
   ]
  },
  {
   "cell_type": "code",
   "execution_count": null,
   "id": "f69f7ce2-9126-429c-97b2-138caa9ad6fd",
   "metadata": {},
   "outputs": [],
   "source": []
  }
 ],
 "metadata": {
  "kernelspec": {
   "display_name": "Python 3 (ipykernel)",
   "language": "python",
   "name": "python3"
  },
  "language_info": {
   "codemirror_mode": {
    "name": "ipython",
    "version": 3
   },
   "file_extension": ".py",
   "mimetype": "text/x-python",
   "name": "python",
   "nbconvert_exporter": "python",
   "pygments_lexer": "ipython3",
   "version": "3.11.1"
  }
 },
 "nbformat": 4,
 "nbformat_minor": 5
}
